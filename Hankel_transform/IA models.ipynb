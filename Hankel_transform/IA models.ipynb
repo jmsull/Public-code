{
 "cells": [
  {
   "cell_type": "code",
   "execution_count": 29,
   "metadata": {},
   "outputs": [
    {
     "name": "stdout",
     "output_type": "stream",
     "text": [
      "Populating the interactive namespace from numpy and matplotlib\n"
     ]
    },
    {
     "name": "stderr",
     "output_type": "stream",
     "text": [
      "/Users/blazek/Packages/anaconda3/lib/python3.6/site-packages/IPython/core/magics/pylab.py:160: UserWarning: pylab import has clobbered these variables: ['vstack', 'hstack', 'rc', 'gamma']\n",
      "`%matplotlib` prevents importing * from pylab and numpy\n",
      "  \"\\n`%matplotlib` prevents importing * from pylab and numpy\"\n"
     ]
    }
   ],
   "source": [
    "%pylab inline\n",
    "from power_spectra import *\n",
    "from scipy.special import jn, jn_zeros\n",
    "from scipy.interpolate import interp1d\n",
    "from hankel_transform import *\n",
    "from jk_utils import *\n",
    "from astropy.cosmology import Planck15 \n",
    "import astropy.units as u\n",
    "from matplotlib import rc\n",
    "rc('text', usetex=False)\n",
    "import scipy\n",
    "from scipy.interpolate import interp1d\n",
    "import fastpt as fpt\n",
    "\n",
    "from astropy.table import Table, hstack,join,vstack\n",
    "\n",
    "from scipy.odr import ODR, Model, Data, RealData\n",
    "from scipy.special import eval_legendre as legendre\n",
    "#from mcfit import P2xi\n",
    "from scipy.special import gamma\n",
    "\n",
    "from scipy.interpolate import interp1d\n",
    "\n",
    "import seaborn as sns\n",
    "import colorsys\n",
    "import matplotlib.colors as mc\n",
    "from scipy.optimize import minimize\n",
    "\n",
    "colors=sns.color_palette()\n",
    "markers=['o','^','>','<','v','s']"
   ]
  },
  {
   "cell_type": "code",
   "execution_count": 30,
   "metadata": {},
   "outputs": [],
   "source": [
    "import seaborn as sns\n",
    "import colorsys\n",
    "import matplotlib.colors as mc"
   ]
  },
  {
   "cell_type": "code",
   "execution_count": 31,
   "metadata": {},
   "outputs": [],
   "source": [
    "fig_home='./figures/'\n",
    "fig_format='pdf'"
   ]
  },
  {
   "cell_type": "code",
   "execution_count": 32,
   "metadata": {},
   "outputs": [],
   "source": [
    "labels={}\n",
    "labels['ia']='$w_{g+}$ [Mpc/h]'\n",
    "labels['gg']='$w_{gg}$ [Mpc/h]'\n",
    "\n"
   ]
  },
  {
   "cell_type": "raw",
   "metadata": {},
   "source": [
    "from astropy.cosmology import w0wzCDM\n",
    "cosmo_w0wz=w0wzCDM(H0=.67,Om0=Planck13.Om0,Ode0=Planck13.Ode0,wz=-.1)"
   ]
  },
  {
   "cell_type": "code",
   "execution_count": 33,
   "metadata": {},
   "outputs": [],
   "source": [
    "def jk_diff(d1={},d2={},njk=100): #difference between two vectors, with jackknife mean and error\n",
    "    diff={}\n",
    "    for i in np.arange(njk):\n",
    "        diff[i]=d1[i]-d2[i]\n",
    "    diff=jk_mean(diff)\n",
    "    return diff\n",
    "\n",
    "def round_significant_digit(val,err1,err2=None): #round off numbers, for printing in figures\n",
    "    #val=dat['val'][0]\n",
    "    #err=dat['err'][0]\n",
    "    err=err1\n",
    "    sn=val/err\n",
    "    dat={}\n",
    "    val_sign=1\n",
    "    add_zero=0\n",
    "    if val<0:\n",
    "        val_sign=-1\n",
    "        val=val*val_sign\n",
    "    try:\n",
    "        n=int(floor(log10(err)))\n",
    "    except Exception as e:\n",
    "        print ('rounding error: ',e)\n",
    "        n=0\n",
    "    decimals=np.amax([0,-n+1])\n",
    "    dat['val']=np.around(val,decimals=decimals)*val_sign\n",
    "    dat['err1']=np.around(err1,decimals=decimals)\n",
    "    if not err2 is None:\n",
    "        dat['err2']=np.around(err2,decimals=decimals)\n",
    "        \n",
    "    val_str=str(dat['val'])\n",
    "    err_str=str(dat['err1'])\n",
    "    val_err_str=val_str+'$\\pm$'+err_str\n",
    "    if not err2 is None:\n",
    "        err_str2=str(dat['err2'])\n",
    "        val_err_str='$'+val_str+'^{+'+err_str+'}_{-'+err_str2+'}$'\n",
    "    return val_err_str"
   ]
  },
  {
   "cell_type": "code",
   "execution_count": 34,
   "metadata": {},
   "outputs": [],
   "source": [
    "def chisq_dat(params,rp,wgg,wgm,cov_inv_gg,cov_inv_gm,wgg_func,wgm_func,bg1):\n",
    "    njk=100\n",
    "    hf=(njk-1.)/(njk-2.-len(rp))\n",
    "    wgg_model=wgg_func(params,bg1=bg1,rp=rp)\n",
    "    \n",
    "    wgm_model=wgm_func(params,bg1=bg1,rp=rp)\n",
    "    loss_gg=wgg-wgg_model#[0]\n",
    "    loss_gm=wgm-wgm_model#[0]\n",
    "    chisq_gg=loss_gg@(cov_inv_gg@loss_gg)\n",
    "    chisq_gp=loss_gm@(cov_inv_gm@loss_gm)\n",
    "    \n",
    "    chisq=chisq_gg+chisq_gp\n",
    "#     print(params,chisq,chisq_gp)\n",
    "    chisq/=hf\n",
    "    return .5*chisq\n",
    "\n",
    "def log_likeli(params,rp,wgg,wgm,cov_inv_gg,cov_inv_gm,wgg_func,wgm_func,bg1):\n",
    "    if params[0]<1:\n",
    "        return -np.inf\n",
    "#     if params[1]<1:\n",
    "#         return -np.inf\n",
    "#     if params[2]<1:\n",
    "#         return -np.inf\n",
    "    return -1*chisq_dat(params,rp,wgg,wgm,cov_inv_gg,cov_inv_gm,wgg_func,wgm_func,bg1)"
   ]
  },
  {
   "cell_type": "code",
   "execution_count": 35,
   "metadata": {},
   "outputs": [],
   "source": [
    "def dat_cut(dat={},rp_max=65,rp_min=5,njk=100,diag_cov=False):\n",
    "    dc={}\n",
    "    x=dat[0]['1bin_value']>rp_min\n",
    "    x*=dat[0]['1bin_value']<rp_max\n",
    "    for i in dat.keys():\n",
    "        dc[i]=dat[i][x]\n",
    "    cov_gm,corr_gm=cc.dict_cov(dic=dc,var='6e',stack=1)\n",
    "    cov_gg,dc['corr_gg']=cc.dict_cov(dic=dc,var='4W',stack=1)\n",
    "    if diag_cov:\n",
    "        cov_gm=np.diag(np.diag(cov_gm))\n",
    "        cov_gg=np.diag(np.diag(cov_gg))\n",
    "    hf=1 #(njk-1.)/(njk-2.-x.sum()) #we are using t-dist\n",
    "    dc['cov_gm']=cov_gm*99.*99./100*hf\n",
    "    dc['cov_gg']=cov_gg*99.*99./100*hf\n",
    "    dc['corr_gm']=corr_gm\n",
    "    dc['err']=None\n",
    "    try:\n",
    "        dc['cov_inv_gm']=np.linalg.inv(dc['cov_gm'])\n",
    "        dc['cov_inv_gg']=np.linalg.inv(dc['cov_gg'])\n",
    "    except Exception as err:\n",
    "        print(err)\n",
    "        dc['err']=err\n",
    "    return dc"
   ]
  },
  {
   "cell_type": "code",
   "execution_count": 36,
   "metadata": {},
   "outputs": [],
   "source": [
    "def w_to_DS(rp=[],w=[],**kwargs):\n",
    "    return 2.*integrate.cumtrapz(w*rp,x=rp,initial=0)/rp**2-w\n",
    "\n",
    "def w_to_ups(rp,w,r0):\n",
    "    DS=w_to_DS(rp,w)\n",
    "    ups=DS_to_ups(rp,DS,r0)\n",
    "    return ups\n",
    "\n",
    "def w_to_ups_jk(dat={},col='6e',r0=0.2,njk=100):\n",
    "    rp=dat[0]['1bin_value']\n",
    "    uk={}\n",
    "    for i in np.arange(njk):\n",
    "        uk[i]=w_to_ups(rp=rp,w=dat[i][col],r0=r0)\n",
    "        dat[i][col]=uk[i]\n",
    "    uk=jk_mean(uk,njk=njk)\n",
    "    i='data'\n",
    "    dat[i][col]=uk['jk']\n",
    "    return dat\n",
    "\n",
    "def DS_to_ups(rp,DS,r0):\n",
    "#     DS_intp=interp1d(np.log(rp),np.log(DS),bounds_error=True,kind='linear')\n",
    "    # DS0=np.exp(DS_intp(np.log(r0)))\n",
    "    DS_intp=interp1d(rp,DS,bounds_error=True,kind='linear')\n",
    "    DS0=DS_intp(r0)\n",
    "    ups=DS-DS0*(r0**2)/rp**2\n",
    "    x=rp<r0\n",
    "    ups[x]*=0\n",
    "    return ups#[rp>r0]\n",
    "\n",
    "\n",
    "#For following two functions, you need to run some cells below which define wgg_intp and wgp_intp objects, before calling them. \n",
    "def wgg_calc(params,bg1=None,rp=[]): #galaxy clustering, linear bias.... params is useless here. Kept for consistency with tatt_wgg_calc below\n",
    "    bg=np.atleast_1d(params[0])\n",
    "    if bg1 is None:\n",
    "        bg1=bg\n",
    "    return bg*bg1*wgg_intp(rp)\n",
    "\n",
    "def wgp_calc(params,bg1=None,rp=[]): #NLA model....  params is useless here. Kept for consistency with tatt_wgp_calc below\n",
    "    if bg1 is None:\n",
    "        bg1=np.atleast_1d(params[0])\n",
    "    AI=np.atleast_1d(params[1])\n",
    "    return bg1*AI*wgp_intp(rp)\n",
    "\n",
    "\n",
    "#Following are place holders\n",
    "def tatt_wgg_calc(params,bg1=0,bg2=None,rp=[]): \n",
    "    bg=np.atleast_1d(params[0]) #order of params should follow the order of p0 in fit_dat\n",
    "    if bg1 is None:\n",
    "        bg1=bg\n",
    "    p_test=params[2]\n",
    "    return bg*bg1*wgg_intp(rp)\n",
    "\n",
    "# Could use linear or non-linear P(k) for the main LA term (wgp_intp vs wgp_lin_intp)\n",
    "# Parameters should be correct right now, although the notation is confusing\n",
    "# because I didn't want to re-write everything where wgp_f is already applied.\n",
    "def tatt_wgp_calc(params,bg1=None,rp=[]):\n",
    "    if bg1 is None:\n",
    "        bg1=np.atleast_1d(params[0])#order of params should follow the order of p0 in fit_dat\n",
    "    AI=np.atleast_1d(params[1])\n",
    "    b_tatt=params[2]\n",
    "    C1 = AI\n",
    "    Cdel = AI*b_tatt*wgp_f\n",
    "    C2 = -5.*A2*wgp_f/Dz # note the sign convention\n",
    "    #return bg1*AI*wgp_lin_intp(rp)+b_tatt*(IA_terms_w_intp['ta_dE1'](rp)+IA_terms_w_intp['ta_dE2'](rp))\n",
    "    return bg1*(C1*wgp_intp(rp) + Cdel*(IA_terms_w_intp['ta_dE1'](rp)+IA_terms_w_intp['ta_dE2'](rp))\n",
    "               +C2*(IA_terms_w_intp['mix_A'](rp)+IA_terms_w_intp['mix_B'](rp)))"
   ]
  },
  {
   "cell_type": "code",
   "execution_count": 37,
   "metadata": {},
   "outputs": [],
   "source": [
    "def fit_dat(home='',dataset='',corr='ia',z=np.atleast_1d([0.27]),rp_max=30,rp_min=5,njk=100,lbl='',use_chisq=True,diag_cov=False,bg1=None,\n",
    "           use_tatt_model=False,minimize_method='Powell'):\n",
    "    kargs=locals()\n",
    "    dat0=jk_read(home=hm,dataset=fn,njk=njk)\n",
    "#     if kappa_ups:\n",
    "#         dat0=w_to_ups_jk(dat=dat0,njk=njk)\n",
    "    dat=dat_cut(dat=dat0,rp_max=rp_max,rp_min=rp_min,njk=njk,diag_cov=diag_cov)\n",
    "    if dat['err'] is not None:\n",
    "        return dat\n",
    "    pk,k=PS.class_pk(z=z)\n",
    "    rp=dat[0]['1bin_value']\n",
    "    \n",
    "    do_DS=True #corr==ia\n",
    "      \n",
    "    p0=[1.7,4.]\n",
    "    params={}\n",
    "    bg1_i=None\n",
    "    wgg_func=wgg_calc\n",
    "    wgp_func=wgp_calc\n",
    "    if use_tatt_model:\n",
    "        p0=[1.7,2.,2.] #place holder\n",
    "        wgg_func=tatt_wgg_calc\n",
    "        wgp_func=tatt_wgp_calc\n",
    "    for i in np.arange(njk):\n",
    "        if bg1 is not None:\n",
    "            bg1_i=bg1[i]\n",
    "        if use_chisq:\n",
    "            pm=minimize(chisq_dat,p0,args=(rp,dat[i]['4W'],dat[i]['6e'],dat['cov_inv_gg'],dat['cov_inv_gm'], wgg_func,wgp_func,bg1_i) ,method=minimize_method)\n",
    "        else:\n",
    "            pm=minimize(t_dist,p0,args=(rp,dat[i]['4W'],dat[i]['6e'],dat['cov_inv_gg'],dat['cov_inv_gm'], wgg_func,wgp_func,bg1_i) ,method=minimize_method)\n",
    "        params[i]=pm.x\n",
    "    params=jk_mean(params,njk=njk)\n",
    "    chisq_jk=2*chisq_dat(params['jk'],rp,dat[i]['4W'],dat[i]['6e'],dat['cov_inv_gg'],dat['cov_inv_gm'], wgg_func,wgp_func,bg1_i)\n",
    "    chisq_jk_gg=2*chisq_dat(params['jk'],rp,dat[i]['4W'],dat[i]['6e'],dat['cov_inv_gg'],dat['cov_inv_gm']*0, wgg_func,wgp_func,bg1_i)\n",
    "    chisq_jk_gm=2*chisq_dat(params['jk'],rp,dat[i]['4W'],dat[i]['6e'],dat['cov_inv_gg']*0,dat['cov_inv_gm'], wgg_func,wgp_func,bg1_i)\n",
    "    for i in ['data','data0']:\n",
    "        if bg1 is not None:\n",
    "            bg1_i=bg1[i]\n",
    "        if use_chisq:\n",
    "            pm=minimize(chisq_dat,p0,args=(rp,dat[i]['4W'],dat[i]['6e'],dat['cov_inv_gg'],dat['cov_inv_gm'], wgg_func,wgp_func,bg1_i) ,method=minimize_method)\n",
    "        else:\n",
    "            pm=minimize(t_dist,p0,args=(rp,dat[i]['4W'],dat[i]['6e'],dat['cov_inv_gg'],dat['cov_inv_gm'], wgg_func,wgp_func,bg1_i) ,method=minimize_method)\n",
    "        params[i]=pm.x\n",
    "    out={}\n",
    "    out['dat']=dat0\n",
    "    out['dat_cut']=dat\n",
    "    out['params']=params\n",
    "    out['chisq']=chisq_jk\n",
    "    out['chisq_gg']=chisq_jk_gg\n",
    "    out['chisq_gm']=chisq_jk_gm\n",
    "    \n",
    "    rp=dat0[0]['1bin_value']\n",
    "    bg=np.atleast_1d(params['jk'][0])\n",
    "    bg2=bg\n",
    "    A_I=np.atleast_1d(params['jk'][1])\n",
    "    if bg1 is not None:\n",
    "        bg2=bg1['jk']\n",
    "    out['wgg_model']=wgg_func(params['jk'],bg1=bg2,rp=rp)\n",
    "    out['wgp_model']=wgp_func(params['jk'],bg1=bg2,rp=rp)\n",
    "    out['corr']=corr\n",
    "    out['rp_max']=rp_max\n",
    "    out['rp_min']=rp_min\n",
    "    out['label']=lbl\n",
    "    out['z']=z\n",
    "    out['use_tatt_model']=use_tatt_model\n",
    "    return out"
   ]
  },
  {
   "cell_type": "code",
   "execution_count": 38,
   "metadata": {},
   "outputs": [
    {
     "data": {
      "text/plain": [
       "'3.0.2'"
      ]
     },
     "execution_count": 38,
     "metadata": {},
     "output_type": "execute_result"
    }
   ],
   "source": [
    "import emcee\n",
    "emcee.__version__"
   ]
  },
  {
   "cell_type": "code",
   "execution_count": 39,
   "metadata": {},
   "outputs": [],
   "source": [
    "def mcmc_dat(home='',dataset='',corr='ia',z=np.atleast_1d([0.27]),rp_max=30,rp_min=5,njk=100,lbl='',use_chisq=True,diag_cov=False,bg1=None,\n",
    "           use_tatt_model=False,nwalkers=400,n_step=1500,burn_in=500):\n",
    "    kargs=locals()\n",
    "    dat0=jk_read(home=hm,dataset=fn,njk=njk)\n",
    "#     if kappa_ups:\n",
    "#         dat0=w_to_ups_jk(dat=dat0,njk=njk)\n",
    "    dat=dat_cut(dat=dat0,rp_max=rp_max,rp_min=rp_min,njk=njk,diag_cov=diag_cov)\n",
    "    if dat['err'] is not None:\n",
    "        return dat\n",
    "    pk,k=PS.class_pk(z=z)\n",
    "    rp=dat[0]['1bin_value']\n",
    "    \n",
    "    do_DS=True #corr==ia\n",
    "      \n",
    "    p0=[1.9,5.]\n",
    "    params={}\n",
    "    bg1_i=None\n",
    "    wgg_func=wgg_calc\n",
    "    wgp_func=wgp_calc\n",
    "    if use_tatt_model:\n",
    "        p0=[1.9,5.,1.5] #place holder\n",
    "        wgg_func=tatt_wgg_calc\n",
    "        wgp_func=tatt_wgp_calc\n",
    "    p0=np.array(p0)   \n",
    "    ndim=p0.size\n",
    "\n",
    "    pos = [p0 + np.random.normal(loc=0,scale=.2) for i in range(nwalkers)]\n",
    "    i='data0'\n",
    "    sampler = emcee.EnsembleSampler(nwalkers, ndim, log_likeli, args=(rp,dat[i]['4W'],dat[i]['6e'],dat['cov_inv_gg'],dat['cov_inv_gm'], wgg_func,wgp_func,bg1_i),a=2)\n",
    "    sampler.run_mcmc(pos, n_step)\n",
    "    samples = sampler.chain[:, burn_in:, :].reshape((-1, ndim))\n",
    "    params={'p':samples}\n",
    "    print('acceptance_fraction',sampler.acceptance_fraction.mean())\n",
    "    params['acceptance_fraction']=sampler.acceptance_fraction\n",
    "    params['chain']=sampler.chain\n",
    "    params['ln']=sampler.lnprobability\n",
    "    \n",
    "    x=sampler.lnprobability==sampler.lnprobability.max()\n",
    "    params['jk0']=sampler.chain[x,:][0] #using jk, jk_err to represent mean,std. This is to keep naming convention consistent with fit_dat function\n",
    "#     params['jk']=samples.mean(axis=0)\n",
    "    params['jk']=params['jk0']\n",
    "    params['jk_err']=samples.std(axis=0)\n",
    "    print(params['jk'].shape)\n",
    "    chisq_jk=2*chisq_dat(params['jk'],rp,dat[i]['4W'],dat[i]['6e'],dat['cov_inv_gg'],dat['cov_inv_gm'], wgg_func,wgp_func,bg1_i)\n",
    "    chisq_jk_gg=2*chisq_dat(params['jk'],rp,dat[i]['4W'],dat[i]['6e'],dat['cov_inv_gg'],dat['cov_inv_gm']*0, wgg_func,wgp_func,bg1_i)\n",
    "    chisq_jk_gm=2*chisq_dat(params['jk'],rp,dat[i]['4W'],dat[i]['6e'],dat['cov_inv_gg']*0,dat['cov_inv_gm'], wgg_func,wgp_func,bg1_i)\n",
    "    \n",
    "    chisq_jk0=2*chisq_dat(params['jk0'],rp,dat[i]['4W'],dat[i]['6e'],dat['cov_inv_gg'],dat['cov_inv_gm'], wgg_func,wgp_func,bg1_i)\n",
    "    chisq_jk0_gg=2*chisq_dat(params['jk0'],rp,dat[i]['4W'],dat[i]['6e'],dat['cov_inv_gg'],dat['cov_inv_gm']*0, wgg_func,wgp_func,bg1_i)\n",
    "    chisq_jk0_gm=2*chisq_dat(params['jk0'],rp,dat[i]['4W'],dat[i]['6e'],dat['cov_inv_gg']*0,dat['cov_inv_gm'], wgg_func,wgp_func,bg1_i)\n",
    "    \n",
    "    out={}\n",
    "    out['dat']=dat0\n",
    "    out['dat_cut']=dat\n",
    "    out['params']=params\n",
    "    out['chisq']=chisq_jk\n",
    "    out['chisq_gg']=chisq_jk_gg\n",
    "    out['chisq_gm']=chisq_jk_gm\n",
    "    out['chisq0']=chisq_jk0\n",
    "    out['chisq0_gg']=chisq_jk0_gg\n",
    "    out['chisq0_gm']=chisq_jk0_gm\n",
    "    \n",
    "    rp=dat0[0]['1bin_value']\n",
    "    bg=np.atleast_1d(params['jk'][0])\n",
    "    bg2=bg\n",
    "    A_I=np.atleast_1d(params['jk'][1])\n",
    "    if bg1 is not None:\n",
    "        bg2=bg1['jk']\n",
    "    out['wgg_model']=wgg_func(params['jk'],bg1=bg2,rp=rp)\n",
    "    out['wgp_model']=wgp_func(params['jk'],bg1=bg2,rp=rp)\n",
    "    out['corr']=corr\n",
    "    out['rp_max']=rp_max\n",
    "    out['rp_min']=rp_min\n",
    "    out['label']=lbl\n",
    "    out['z']=z\n",
    "    out['use_tatt_model']=use_tatt_model\n",
    "    return out"
   ]
  },
  {
   "cell_type": "code",
   "execution_count": 40,
   "metadata": {},
   "outputs": [],
   "source": [
    "def lighten_color(color, amount=0.2):\n",
    "    \"\"\"\n",
    "    Lightens the given color by multiplying (1-luminosity) by the given amount.\n",
    "    Input can be matplotlib color string, hex string, or RGB tuple.\n",
    "\n",
    "    Examples:\n",
    "    >> lighten_color('g', 0.3)\n",
    "    >> lighten_color('#F034A3', 0.6)\n",
    "    >> lighten_color((.3,.55,.1), 0.5)\n",
    "    \"\"\"\n",
    "    c = colorsys.rgb_to_hls(*mc.to_rgb(color))\n",
    "    return colorsys.hls_to_rgb(c[0], 1 - amount * (1 - c[1]), c[2])\n",
    "\n",
    "def plot_corrs(datasets={},rp_pow=1,wgp_ylim=None,wgg_ylim=None,legend_loc=(.8, 1.0),legend_col=1,\n",
    "               b_x=0.2,A_x=0.2,b_y=100,db_y=15,A_y=-1,dA_y=0.6,split_A_x=None,dA_x=10,ignore_wgg=False,\n",
    "               drp=0.03,xlim=(0.1,110),text_info=None,ti_x=0,ti_y=0,plot_1wgg=False,no_legend=False,\n",
    "              fname=None,text_fontsize=30):\n",
    "    if ignore_wgg:\n",
    "        wgg_fig,wgg_axes =subplots(nrows=1, ncols=1, sharex=True, sharey=False,figsize=(15,10))\n",
    "        wgp_plot=wgg_axes\n",
    "    else:\n",
    "        wgg_fig,wgg_axes =subplots(nrows=2, ncols=1, sharex=True, sharey=False,figsize=(15,20))\n",
    "    #     wgp_fig,wgp_axes =subplots(nrows=1, ncols=1, sharex=True, sharey=False)\n",
    "        wgg_plot=wgg_axes[0]\n",
    "        wgp_plot=wgg_axes[1]\n",
    "     \n",
    "    ik=0\n",
    "    for k in datasets.keys():\n",
    "        color=colors[ik%len(colors)]\n",
    "        marker=markers[ik%len(colors)]\n",
    "        out=datasets[k]\n",
    "        lbl=out['label']\n",
    "        corr=out['corr']\n",
    "        y_label=labels['ia']\n",
    "        \n",
    "        tl='I'\n",
    "        rp=out['dat'][0]['1bin_value']\n",
    "        frp=rp**rp_pow\n",
    "        print(k,'chisq :',out['chisq'],out['chisq_gg'],out['chisq_gm'])\n",
    "        if plot_1wgg and ik>0:\n",
    "            pass\n",
    "        elif not ignore_wgg:\n",
    "            wgg_plot.errorbar(rp*(1+ik*drp),frp*out['dat']['data']['4W'],frp*out['dat']['data']['5W_err'],fmt=marker,color=color,label=lbl,mfc='white',mew=3,mec=color,zorder=1)\n",
    "            wgg_plot.plot(rp*(1+ik*drp),frp*out['wgg_model'],ls='-',color=color,zorder=0)\n",
    "            wgg_plot.set_xlabel(r'$r_p$ [Mpc/h]')\n",
    "            wgg_plot.set_ylabel(labels['gg'])\n",
    "            if rp_pow>0:\n",
    "                wgg_plot.set_ylabel(r'$r_p$'+labels['gg']+'$^'+str(rp_pow+1)+'$')\n",
    "            wgg_plot.text(x=b_x,y=b_y-ik*db_y,s='b='+round_significant_digit(out['params']['jk'][0],out['params']['jk_err'][0]),color=color,zorder=100,\n",
    "                         bbox=dict(facecolor=lighten_color(color),#'lightgrey', \n",
    "                                   alpha=1,ec='white',lw=0),fontsize=text_fontsize)\n",
    "            if ik==0:\n",
    "                if wgg_ylim is None:\n",
    "                    wgg_plot.vlines(out['rp_min'],(frp*out['dat']['data']['4W']).min(),(frp*out['dat']['data']['4W']).max(),color='c',linestyle=':')\n",
    "                    wgg_plot.vlines(out['rp_max'],(frp*out['dat']['data']['4W']).min(),(frp*out['dat']['data']['4W']).max(),color='c',linestyle=':')\n",
    "                else:\n",
    "                    wgg_plot.vlines(out['rp_min'],min(wgg_ylim),max(wgg_ylim),color='c',linestyle=':')\n",
    "                    wgg_plot.vlines(out['rp_max'],min(wgg_ylim),max(wgg_ylim),color='c',linestyle=':')\n",
    "            wgg_plot.set_ylim(wgg_ylim)\n",
    "                \n",
    "        wgp_plot.errorbar(rp*(1+ik*drp),frp*out['dat']['data']['6e'],frp*out['dat']['data']['7e_err'],fmt=marker,label=lbl,color=color,mfc='white',mew=3,mec=color,zorder=1)\n",
    "        wgp_plot.plot(rp*(1+ik*drp),frp*out['wgp_model'],'-',color=color,zorder=0)\n",
    "        if split_A_x is not None:\n",
    "            if ik==split_A_x:\n",
    "                A_x=A_x+dA_x\n",
    "                A_y=A_y+dA_y*ik\n",
    "        if out['use_tatt_model']:\n",
    "            wgp_plot.text(x=A_x,y=A_y-dA_y*ik*2,s='$A_'+tl+'$='+round_significant_digit(out['params']['jk'][1],out['params']['jk_err'][1]),color=color,zorder=100,\n",
    "                     bbox=dict(facecolor=lighten_color(color),#'lightgrey', \n",
    "                               alpha=1,ec='white',lw=0),fontsize=text_fontsize)\n",
    "            wgp_plot.text(x=A_x,y=A_y-dA_y*ik*2-dA_y,s='$b_{tatt}$='+round_significant_digit(out['params']['jk'][2],out['params']['jk_err'][2]),color=color,zorder=100,\n",
    "                     bbox=dict(facecolor=lighten_color(color),#'lightgrey', \n",
    "                               alpha=1,ec='white',lw=0),fontsize=text_fontsize)\n",
    "        else:\n",
    "            wgp_plot.text(x=A_x,y=A_y-dA_y*ik,s='$A_'+tl+'$='+round_significant_digit(out['params']['jk'][1],out['params']['jk_err'][1]),color=color,zorder=100,\n",
    "                     bbox=dict(facecolor=lighten_color(color),#'lightgrey', \n",
    "                               alpha=1,ec='white',lw=0),fontsize=text_fontsize)\n",
    "        if ik==0:\n",
    "            if wgp_ylim is None:\n",
    "                wgp_plot.vlines(out['rp_min'],(frp*out['dat']['data']['6e']).min(),(frp*out['dat']['data']['6e']).max(),color='c',linestyle=':',zorder=-1)\n",
    "                wgp_plot.vlines(out['rp_max'],(frp*out['dat']['data']['6e']).min(),(frp*out['dat']['data']['6e']).max(),color='c',linestyle=':',zorder=-1)\n",
    "            else:\n",
    "                wgp_plot.vlines(out['rp_min'],min(wgp_ylim),max(wgp_ylim),color='c',linestyle=':',zorder=-1)\n",
    "                wgp_plot.vlines(out['rp_max'],min(wgp_ylim),max(wgp_ylim),color='c',linestyle=':',zorder=-1)\n",
    "        wgp_plot.set_xlabel(r'$r_p$ [Mpc/h]')\n",
    "        wgp_plot.set_ylabel(y_label)\n",
    "        if rp_pow>0:\n",
    "            print(r'$r_p$'+y_label+'$^'+str(rp_pow+1)+'$')\n",
    "            wgp_plot.set_ylabel(r'$r_p$'+y_label+'$^'+str(rp_pow+1)+'$')\n",
    "            wgp_plot.hlines(0,0.001,200,color='k',linestyle='--',lw=2,zorder=-1)\n",
    "        #wgp_plot.legend()\n",
    "      \n",
    "        wgp_plot.set_xscale('log')\n",
    "        wgp_plot.set_ylim(wgp_ylim)\n",
    "        wgp_plot.set_xlim(xlim)\n",
    "        if rp_pow==0:\n",
    "            wgp_plot.set_yscale('log')\n",
    "            wgg_plot.set_yscale('log')\n",
    "        ik+=1\n",
    "    if not no_legend:\n",
    "        if plot_1wgg or ignore_wgg:\n",
    "            wgp_plot.legend(loc='upper right',bbox_to_anchor=legend_loc,ncol=legend_col)\n",
    "        else:\n",
    "            wgg_plot.legend(loc='upper left',bbox_to_anchor=legend_loc,ncol=legend_col)\n",
    "\n",
    "\n",
    "    if text_info is not None:\n",
    "        if ignore_wgg:\n",
    "            t_plot=wgp_plot\n",
    "        else:\n",
    "            t_plot=wgg_plot\n",
    "        t_plot.text(x=ti_x,y=ti_y,s=text_info,color='k',zorder=100,\n",
    "                     bbox=dict(facecolor='white', alpha=1,ec='white',lw=0)\n",
    "                          )\n",
    "\n",
    "    if fname is not None:\n",
    "        fname=fig_home+fname\n",
    "        wgg_fig.savefig(fname,bbox_inches='tight',fig_format=fig_format)\n",
    "    wgg_fig.show()\n",
    "    return 0"
   ]
  },
  {
   "cell_type": "code",
   "execution_count": 41,
   "metadata": {},
   "outputs": [],
   "source": [
    "DI={}\n",
    "D_tatt={}"
   ]
  },
  {
   "cell_type": "raw",
   "metadata": {},
   "source": [
    "hm='./lowz12_fp/data_out/full/coor_data_out/'\n",
    "fn='fullfull_fp_full_fsc_zb02_r1_wt2_Rwt0'\n",
    "D[fn]=fit_dat(home=hm,dataset=fn,corr='fp',lbl='$\\lambda_{1,zb,sc}$',)\n",
    "\n"
   ]
  },
  {
   "cell_type": "code",
   "execution_count": 42,
   "metadata": {},
   "outputs": [],
   "source": [
    "def DZ_int(z=[0],cosmo=None,rtol=1.e-4,tol=1.e-5): #linear growth factor.. full integral.. eq 63 in Lahav and suto\n",
    "    z=np.sort(np.unique(np.append([0],np.atleast_1d(z))))\n",
    "    Ez_func=cosmo.efunc\n",
    "    def intf(z):\n",
    "        return (1.+z)/(cosmo.H(z=z).value**3)\n",
    "    dz=np.zeros_like(z,dtype='float32')\n",
    "    inf=np.inf\n",
    "    j=0\n",
    "    for i in z:\n",
    "        dz[j]+=cosmo.H(i).value*scipy_int1d(intf,i,inf,epsrel=rtol,epsabs=tol)[0]\n",
    "        j=j+1\n",
    "    dz=dz*2.5*cosmo.Om0*cosmo.H0**2\n",
    "    return dz/dz[0] #check for normalization"
   ]
  },
  {
   "cell_type": "code",
   "execution_count": 43,
   "metadata": {},
   "outputs": [],
   "source": [
    "cosmo=Planck15.clone()#we want h=1 for some comparisons\n",
    "cosmo_h=Planck15.clone(H0=100)\n",
    "\n",
    "kmax=30\n",
    "kmin=.8e-3\n",
    "k_smooth=1\n",
    "nk=5000\n",
    "rmin=1\n",
    "rmax=100\n",
    "non_linear=1\n",
    "\n",
    "r_bins=np.logspace(-1,np.log10(100),21) #np.logspace(0,2,11)\n",
    "\n",
    "cosmo_fid=dict({'h':cosmo.h,'Omb':cosmo.Ob0,'Omd':cosmo.Om0-cosmo.Ob0,'s8':0.817,'Om':cosmo.Om0,\n",
    "                'As':2.12e-09,'mnu':cosmo.m_nu[-1].value,'Omk':cosmo.Ok0,'tau':0.06,'ns':0.965,'w':-1,'wa':0})\n",
    "pk_params={'non_linear':non_linear,'kmax':kmax,'kmin':kmin,'nk':nk}\n",
    "pk_params_lin={'non_linear':0,'kmax':kmax,'kmin':kmin,'nk':nk}\n",
    "\n",
    "PS=Power_Spectra(cosmo_params=cosmo_fid,pk_params=pk_params)\n",
    "PS_lin=Power_Spectra(cosmo_params=cosmo_fid,pk_params=pk_params_lin)\n",
    "\n",
    "z_min=0.16\n",
    "z_max=0.36\n",
    "z_mean=0.27\n",
    "\n",
    "pk,kh =PS.class_pk(z=[z_mean])\n",
    "pk_lin,kh = PS_lin.class_pk(z=[z_mean])"
   ]
  },
  {
   "cell_type": "code",
   "execution_count": 44,
   "metadata": {},
   "outputs": [],
   "source": [
    "b_g=1\n",
    "A_I=1\n",
    "C1_rhoC=0.0134\n",
    "Om=cosmo.Om0\n",
    "Dz=DZ_int(z=np.append([0],z_mean),cosmo=cosmo)# Dz is normalized to 1 at lowest z. \n",
    "                                    #Hence appending 0 in front to get Dz normalized to 1 at z=0\n",
    "Dz=Dz[1]/Dz[0]\n",
    "wgg_f=b_g**2\n",
    "wgp_f=b_g*A_I*C1_rhoC*Om/Dz\n",
    "wpp_f=(A_I*C1_rhoC*Om/Dz)**2"
   ]
  },
  {
   "cell_type": "code",
   "execution_count": 45,
   "metadata": {},
   "outputs": [
    {
     "name": "stdout",
     "output_type": "stream",
     "text": [
      "j-nu= 0  not enough zeros to cover kmin, increasing by  1000  to 29000\n",
      "nr: 948\n",
      "j-nu= 2  not enough zeros to cover kmin, increasing by  1000  to 29000\n",
      "j-nu= 2  not enough zeros to cover kmin, increasing by  1000  to 30000\n",
      "j-nu= 2  not enough zeros to cover kmin, increasing by  1000  to 31000\n",
      "j-nu= 2  not enough zeros to cover kmin, increasing by  1000  to 32000\n",
      "j-nu= 2  not enough zeros to cover kmin, increasing by  1000  to 33000\n",
      "j-nu= 2  not enough zeros to cover kmin, increasing by  1000  to 34000\n",
      "j-nu= 2  not enough zeros to cover kmin, increasing by  1000  to 35000\n",
      "j-nu= 2  not enough zeros to cover kmin, increasing by  1000  to 36000\n",
      "j-nu= 2  not enough zeros to cover kmin, increasing by  1000  to 37000\n",
      "j-nu= 2  not enough zeros to cover kmin, increasing by  1000  to 38000\n",
      "j-nu= 2  not enough zeros to cover kmin, increasing by  1000  to 39000\n",
      "j-nu= 2  not enough zeros to cover kmin, increasing by  1000  to 40000\n",
      "j-nu= 2  not enough zeros to cover kmin, increasing by  1000  to 41000\n",
      "j-nu= 2  not enough zeros to cover kmin, increasing by  1000  to 42000\n",
      "j-nu= 2  not enough zeros to cover kmin, increasing by  1000  to 43000\n",
      "j-nu= 2  not enough zeros to cover kmin, increasing by  1000  to 44000\n",
      "j-nu= 2  not enough zeros to cover kmin, increasing by  1000  to 45000\n",
      "j-nu= 2  not enough zeros to cover kmin, increasing by  1000  to 46000\n",
      "j-nu= 2  not enough zeros to cover kmin, increasing by  1000  to 47000\n",
      "j-nu= 2  not enough zeros to cover kmin, increasing by  1000  to 48000\n",
      "j-nu= 2  not enough zeros to cover kmin, increasing by  1000  to 49000\n",
      "j-nu= 2  not enough zeros to cover kmin, increasing by  1000  to 50000\n",
      "j-nu= 2  not enough zeros to cover kmin, increasing by  1000  to 51000\n",
      "j-nu= 2  not enough zeros to cover kmin, increasing by  1000  to 52000\n",
      "j-nu= 2  not enough zeros to cover kmin, increasing by  1000  to 53000\n",
      "j-nu= 2  not enough zeros to cover kmin, increasing by  1000  to 54000\n",
      "j-nu= 2  not enough zeros to cover kmin, increasing by  1000  to 55000\n",
      "j-nu= 2  not enough zeros to cover kmin, increasing by  1000  to 56000\n",
      "j-nu= 2  not enough zeros to cover kmin, increasing by  1000  to 57000\n",
      "j-nu= 2  not enough zeros to cover kmin, increasing by  1000  to 58000\n",
      "j-nu= 2  not enough zeros to cover kmin, increasing by  1000  to 59000\n",
      "j-nu= 2  not enough zeros to cover kmin, increasing by  1000  to 60000\n",
      "j-nu= 2  not enough zeros to cover kmin, increasing by  1000  to 61000\n",
      "j-nu= 2  not enough zeros to cover kmin, increasing by  1000  to 62000\n",
      "nr: 948\n",
      "CPU times: user 34.1 s, sys: 876 ms, total: 35 s\n",
      "Wall time: 39.5 s\n"
     ]
    }
   ],
   "source": [
    "#Setting up the Hankel Transform\n",
    "#This part is slower. But only needs to be run once. \n",
    "#If you only need wgg, set j_nu=[0]. For wg+ (or \\Delta\\Sigma) use j_nu=[2]\n",
    "%time HT=hankel_transform(rmin=rmin,rmax=rmax,kmax=kmax,j_nu=[0,2],n_zeros=28000,kmin=kmin)\n",
    "#HT=hankel_transform(rmin=1,rmax=rmax,kmax=1,j_nu=[0,2],n_zeros=2800,kmin=1.e-2)#quick test... inaccurate"
   ]
  },
  {
   "cell_type": "code",
   "execution_count": 46,
   "metadata": {},
   "outputs": [],
   "source": [
    "r_gg,wgg=HT.projected_correlation(k_pk=kh,pk=pk[0]*wgg_f,j_nu=0)\n",
    "# %time r_gg,wgg_taper=HT.projected_correlation(k_pk=kh,pk=pk_taper*wgg_f,j_nu=0)\n",
    "wgg_intp=interp1d(r_gg,wgg, bounds_error=False, fill_value=0)\n",
    "r_gp,wgp=HT.projected_correlation(k_pk=kh,pk=pk[0]*wgp_f,j_nu=2)\n",
    "wgp_intp=interp1d(r_gp,wgp, bounds_error=False, fill_value=0)\n",
    "\n",
    "r_gp,wgp_lin=HT.projected_correlation(k_pk=kh,pk=pk_lin[0]*wgp_f,j_nu=2)\n",
    "wgp_lin_intp=interp1d(r_gp,wgp_lin, bounds_error=False, fill_value=0)\n",
    "\n",
    "\n",
    "\n",
    "# r_pp,wpp4=HT.projected_correlation(k_pk=kh,pk=pk[0]*wpp_f,j_nu=4)\n",
    "# r_pp0,wpp0=HT.projected_correlation(k_pk=kh,pk=pk[0]*wpp_f,j_nu=0)\n",
    "\n",
    "# wpp0_intp=interp1d(r_pp0,wpp0,bounds_error=False,fill_value=np.nan)\n",
    "# wpp=wpp4+wpp0_intp(r_pp)"
   ]
  },
  {
   "cell_type": "code",
   "execution_count": 52,
   "metadata": {},
   "outputs": [
    {
     "name": "stdout",
     "output_type": "stream",
     "text": [
      "[1.        0.8675116]\n",
      "0.8675116300582886\n"
     ]
    }
   ],
   "source": [
    "#growth factor\n",
    "Growth = PS.DZ_int(z=[0,z_mean])\n",
    "# Growth = DZ_int(z=[0.27],cosmo = PS.cosmo)[-1]\n",
    "\n",
    "Growth2 = Dz**2\n",
    "print(Growth)\n",
    "print(Dz)\n",
    "\n",
    "z0=0.0\n",
    "pk0_lin,kh0 = PS_lin.class_pk(z=[z0])\n",
    "pklin=pk0_lin[0]"
   ]
  },
  {
   "cell_type": "code",
   "execution_count": 53,
   "metadata": {},
   "outputs": [
    {
     "data": {
      "text/plain": [
       "<matplotlib.legend.Legend at 0x120a21be0>"
      ]
     },
     "execution_count": 53,
     "metadata": {},
     "output_type": "execute_result"
    },
    {
     "data": {
      "image/png": "[encoded data removed]",
      "text/plain": [
       "<Figure size 432x288 with 1 Axes>"
      ]
     },
     "metadata": {},
     "output_type": "display_data"
    }
   ],
   "source": [
    "#Plot some stuff to check\n",
    "plot(kh0,pk0_lin[0], 'r--', label='$P_{lin}(k)$')\n",
    "plot(kh,pk[0], 'g-', label='$P_{nl}(k)$')\n",
    "\n",
    "xscale('log')\n",
    "yscale('log')\n",
    "xlabel('$k$', fontsize=14)\n",
    "ylabel('$P(k)$', fontsize=14)\n",
    "legend(loc='lower left', fontsize=12, frameon=False)"
   ]
  },
  {
   "cell_type": "code",
   "execution_count": 58,
   "metadata": {},
   "outputs": [
    {
     "name": "stdout",
     "output_type": "stream",
     "text": [
      "[8.00000000e-04 8.01687249e-04 8.03378057e-04 ... 2.98738555e+01\n",
      " 2.99368613e+01 3.00000000e+01]\n",
      "[8.00000000e-04 8.01687249e-04 8.03378057e-04 ... 2.98738555e+01\n",
      " 2.99368613e+01 3.00000000e+01]\n"
     ]
    }
   ],
   "source": [
    "# Initialize FASTPT object\n",
    "\n",
    "do_IA = True\n",
    "to_do = []\n",
    "if do_IA:\n",
    "    to_do.append('IA')\n",
    "#Ideally, the initialization happens once per likelihood evaluation, or even once per chain.\n",
    "pad_factor=1\n",
    "low_extrap=-5\n",
    "high_extrap=3\n",
    "P_window=None\n",
    "C_window=.75\n",
    "\n",
    "n_pad = pad_factor*len(kh0)\n",
    "\n",
    "fpt_obj=fpt.FASTPT(kh0,to_do=to_do,low_extrap=low_extrap,high_extrap=high_extrap,n_pad=n_pad)"
   ]
  },
  {
   "cell_type": "code",
   "execution_count": 55,
   "metadata": {},
   "outputs": [],
   "source": [
    "#??fpt_obj.IA_tt"
   ]
  },
  {
   "cell_type": "markdown",
   "metadata": {},
   "source": [
    "# This is a CCL function. Will need to be updated\n",
    "def translate_IA_norm(cosmo, z, a1=1.0, a1delta=None, a2=None,\n",
    "                      Om_m2_for_c2=False, Om_m_fid=0.3):\n",
    "    \"\"\"\n",
    "    Function to convert from a_ia values to c_ia values,\n",
    "    using the standard convention of Blazek 2019 or the variant used\n",
    "    by the Dark Energy Survey analysis.\n",
    "\n",
    "    Args:\n",
    "        cosmo (:class:`~pyccl.core.Cosmology`): cosmology object.\n",
    "        z (float or array_like): z value(s) where amplitude is evaluated\n",
    "        a1 (float or array_like): IA a1 at input z values. Defaults to 1.0\n",
    "        a1delta (float or array_like): IA a1delta at input z values.\n",
    "            Defaults to None.\n",
    "        a2 (float or array_like): IA a2 at input z values.\n",
    "            Defaults to None.\n",
    "        Om_m2_for_c2 (bool): True to use the Blazek 2019 convention of\n",
    "            Om_m^2 scaling. Defaults to False\n",
    "        Om_m_fid (float): Value for Blazek 2019 scaling. Defaults to 0.3.\n",
    "\n",
    "    Returns:\n",
    "        c1 (float or array_like): IA c1 at input z values\n",
    "        c1delta (float or array_like): IA c1delta at input z values\n",
    "        c2 (float or array_like): IA c2 at input z values\n",
    "    \"\"\"\n",
    "\n",
    "    def check_input_array(a, name):\n",
    "        if a is None:\n",
    "            return\n",
    "\n",
    "        if np.ndim(a) > 1:\n",
    "            raise ValueError(name +\n",
    "                             \" should be a scalar or 1D\")\n",
    "\n",
    "        if np.ndim(a) == 1:\n",
    "            if len(a) != len(z):\n",
    "                raise ValueError(\"Both z and \" + name +\n",
    "                                 \" should have the same size\")\n",
    "\n",
    "    if np.ndim(z) > 1:\n",
    "        raise ValueError(\"z should be a scalar or 1D\")\n",
    "    check_input_array(a1, 'a1')\n",
    "    check_input_array(a2, 'a2')\n",
    "    check_input_array(a1delta, 'a1delta')\n",
    "\n",
    "    Om_m = cosmo['Omega_m']\n",
    "    rho_crit = lib.cvar.constants.RHO_CRITICAL\n",
    "    c1 = c1delta = c2 = None\n",
    "    gz = growth_factor(cosmo, 1./(1+z))\n",
    "\n",
    "    if a1 is not None:\n",
    "        c1 = -1*a1*5e-14*rho_crit*Om_m/gz\n",
    "\n",
    "    if a1delta is not None:\n",
    "        c1delta = -1*a1delta*5e-14*rho_crit*Om_m/gz\n",
    "\n",
    "    if a2 is not None:\n",
    "        if Om_m2_for_c2:  # Blazek2019 convention\n",
    "            c2 = a2*5*5e-14*rho_crit*Om_m**2/(Om_m_fid*gz**2)\n",
    "        else:  # DES convention\n",
    "            c2 = a2*5*5e-14*rho_crit*Om_m/(gz**2)\n",
    "\n",
    "    return c1, c1delta, c2"
   ]
  },
  {
   "cell_type": "code",
   "execution_count": 56,
   "metadata": {},
   "outputs": [],
   "source": [
    "# Calculate TATT IA terms\n",
    "IA_terms={}\n",
    "# IA_tt = fpt_obj.IA_tt(pklin, P_window=P_window, C_window=C_window)\n",
    "# IA_terms['tt_EE'] = Growth2 ** 2 * IA_tt[0] #don't need EE/BB terms for now. Will need them for ++, xx\n",
    "# IA_terms['tt_BB'] = Growth2 ** 2 * IA_tt[1]\n",
    "IA_ta = fpt_obj.IA_ta(pklin, P_window=P_window, C_window=C_window)\n",
    "IA_terms['ta_dE1'] = Growth2 ** 2 * IA_ta[0]\n",
    "IA_terms['ta_dE2'] = Growth2 ** 2 * IA_ta[1]\n",
    "# IA_terms['ta_EE'] = Growth2 ** 2 * IA_ta[2]\n",
    "# IA_terms['ta_BB'] = Growth2 ** 2 * IA_ta[3]\n",
    "IA_mix = fpt_obj.IA_mix(pklin, P_window=P_window, C_window=C_window)\n",
    "IA_terms['mix_A'] = Growth2 ** 2 * IA_mix[0]\n",
    "IA_terms['mix_B'] = Growth2 ** 2 * IA_mix[1]\n",
    "# IA_terms['mix_D_EE'] = Growth2 ** 2 * IA_mix[2]\n",
    "# IA_terms['mix_D_BB'] = Growth2 ** 2 * IA_mix[3]\n"
   ]
  },
  {
   "cell_type": "markdown",
   "metadata": {},
   "source": [
    "Eventually, we should switch to CCL functionality."
   ]
  },
  {
   "cell_type": "code",
   "execution_count": 59,
   "metadata": {},
   "outputs": [],
   "source": [
    "# Calculate TATT IA terms\n",
    "IA_terms_w={}\n",
    "IA_terms_w_intp={}\n",
    "taper=False\n",
    "for i in IA_terms.keys():\n",
    "    rp_gp, IA_terms_w[i]=HT.projected_correlation(k_pk=kh,pk=IA_terms[i],j_nu=2,taper=taper)\n",
    "    #IA_terms_w[i]=IA_terms_w[i]*wgp_f #the factor is now applied later\n",
    "    IA_terms_w_intp[i]=interp1d(rp_gp,IA_terms_w[i],bounds_error=False, fill_value=0)"
   ]
  },
  {
   "cell_type": "code",
   "execution_count": 60,
   "metadata": {},
   "outputs": [
    {
     "name": "stderr",
     "output_type": "stream",
     "text": [
      "No handles with labels found to put in legend.\n"
     ]
    },
    {
     "data": {
      "text/plain": [
       "<matplotlib.legend.Legend at 0x121215128>"
      ]
     },
     "execution_count": 60,
     "metadata": {},
     "output_type": "execute_result"
    },
    {
     "data": {
      "image/png": "[encoded data removed]",
      "text/plain": [
       "<Figure size 432x288 with 1 Axes>"
      ]
     },
     "metadata": {},
     "output_type": "display_data"
    }
   ],
   "source": [
    "for i in IA_terms.keys():\n",
    "    if not 'tt' in i:\n",
    "        continue\n",
    "    plot(rp_gp, IA_terms_w[i],label=i)\n",
    "plot(r_gp,wgp,':')\n",
    "plot(r_gp,wgp_lin,':')\n",
    "loglog()\n",
    "legend()"
   ]
  },
  {
   "cell_type": "code",
   "execution_count": null,
   "metadata": {},
   "outputs": [],
   "source": [
    "for i in IA_terms.keys():\n",
    "    if not 'ta' in i:\n",
    "        continue\n",
    "    plot(rp_gp, IA_terms_w[i],label=i)\n",
    "plot(r_gp,wgp,':')\n",
    "plot(r_gp,wgp_lin,':')\n",
    "loglog()\n",
    "legend()"
   ]
  },
  {
   "cell_type": "code",
   "execution_count": null,
   "metadata": {},
   "outputs": [],
   "source": [
    "for i in IA_terms.keys():\n",
    "    if not 'ta' in i:\n",
    "        continue\n",
    "    plot(rp_gp, IA_terms_w[i]+wgp_lin,label=i)\n",
    "plot(r_gp,wgp,':')\n",
    "# plot(r_gp,wgp_lin,':')\n",
    "loglog()\n",
    "legend()"
   ]
  },
  {
   "cell_type": "code",
   "execution_count": null,
   "metadata": {},
   "outputs": [],
   "source": [
    "for i in IA_terms.keys():\n",
    "    if not 'mix' in i:\n",
    "        continue\n",
    "    plot(rp_gp, np.absolute(IA_terms_w[i]),label=i)\n",
    "plot(r_gp,wgp,':')\n",
    "loglog()\n",
    "legend()"
   ]
  },
  {
   "cell_type": "code",
   "execution_count": null,
   "metadata": {},
   "outputs": [],
   "source": []
  },
  {
   "cell_type": "code",
   "execution_count": null,
   "metadata": {},
   "outputs": [],
   "source": [
    "hm='./data_out/full_ia/coor_data_out/'\n",
    "fn='fullfull_wt02_Rwt3_ia'\n",
    "DI[fn]=fit_dat(home=hm,dataset=fn,corr='ia',lbl='Lowz',diag_cov=True,use_tatt_model=False)\n",
    "\n",
    "fns=['fullfull_wt02_Rwt3_ia']\n",
    "ds={i:DI[fns[i]] for i in np.arange(len(fns))}\n",
    "plot_corrs(datasets=ds,wgg_ylim=(0.e2,3e2),wgp_ylim=(-5,5),db_y=40,b_y=50,b_x=2,A_y=-2.2,A_x=1,dA_y=.8,legend_loc=(0, 1.25),legend_col=2,text_info='LOWZ',ti_x=1,ti_y=100)"
   ]
  },
  {
   "cell_type": "code",
   "execution_count": null,
   "metadata": {},
   "outputs": [],
   "source": [
    "hm='./data_out/full_ia/coor_data_out/'\n",
    "fn='fullfull_wt02_Rwt3_ia'\n",
    "D_tatt[fn+'MAP']=fit_dat(home=hm,dataset=fn,corr='ia',lbl='Lowz-jk-MAP',diag_cov=True,use_tatt_model=True,rp_min=2,minimize_method='Powell')\n",
    "D_tatt[fn]=mcmc_dat(home=hm,dataset=fn,corr='ia',lbl='Lowz-MCMC',diag_cov=False,use_tatt_model=True,rp_min=2,burn_in=500,nwalkers=300,n_step=1500)\n",
    "\n",
    "\n",
    "fns=['fullfull_wt02_Rwt3_ia']\n",
    "ds={i:D_tatt[fns[i]] for i in np.arange(len(fns))}\n",
    "ds.update({1:D_tatt[fns[0]+'MAP']})\n",
    "plot_corrs(datasets=ds,wgg_ylim=(0.e2,3e2),wgp_ylim=(-5,5),db_y=40,b_y=50,b_x=2,A_y=-2.2,A_x=1,dA_y=.8,legend_loc=(0, 1.25),legend_col=2,text_info='LOWZ',ti_x=1,ti_y=100)"
   ]
  },
  {
   "cell_type": "code",
   "execution_count": null,
   "metadata": {
    "scrolled": false
   },
   "outputs": [],
   "source": [
    "_=hist2d(D_tatt[fn]['params']['p'][:,0],D_tatt[fn]['params']['p'][:,1],200,cmap='Reds')\n",
    "show()\n",
    "_=hist2d(D_tatt[fn]['params']['p'][:,1],D_tatt[fn]['params']['p'][:,2],200,cmap='Reds')\n",
    "show()\n",
    "for j in np.arange(3):\n",
    "    for i in np.arange(50):\n",
    "        _=plot(D_tatt[fn]['params']['chain'][i,:,j]) #plots the walker position as function of step number. First 500 step are thrown away (burn-in)\n",
    "    xscale('log')\n",
    "    show()\n",
    "    \n",
    "print(D_tatt[fn]['chisq'],D_tatt[fn]['chisq_gg'],D_tatt[fn]['chisq_gm'])\n",
    "print(D_tatt[fn]['chisq0'],D_tatt[fn]['chisq0_gg'],D_tatt[fn]['chisq0_gm'])\n",
    "print(D_tatt[fn]['params']['jk0'])\n",
    "print('MAP',D_tatt[fn+'MAP']['chisq'],D_tatt[fn+'MAP']['chisq_gg'],D_tatt[fn+'MAP']['chisq_gm'])\n",
    "print(D_tatt[fn+'MAP']['params']['jk'])"
   ]
  },
  {
   "cell_type": "markdown",
   "metadata": {},
   "source": [
    "# Covariance"
   ]
  },
  {
   "cell_type": "code",
   "execution_count": null,
   "metadata": {},
   "outputs": [],
   "source": [
    "n_g=3.e-4 #number density.. in units of Mpc ^ -3, same as pk\n",
    "g_shot_noise=1./n_g\n",
    "b_g=1.8\n",
    "p_g=pk[0]*wgg_f"
   ]
  },
  {
   "cell_type": "code",
   "execution_count": null,
   "metadata": {},
   "outputs": [],
   "source": [
    "sigma_e=.36\n",
    "sigma_gamma=sigma_e/1.7\n",
    "n_s=n_g #shape galaxy number density \n",
    "shape_noise=sigma_gamma**2/n_s#*cosmo.H_z(z=0.27)/cosmo.c\n",
    "p_gk=pk[0]*wgp_f\n",
    "p_kk=pk[0]*wpp_f"
   ]
  },
  {
   "cell_type": "code",
   "execution_count": null,
   "metadata": {},
   "outputs": [],
   "source": [
    "#lensing contribution\n",
    "l=np.unique(np.int32(kh*cosmo.comoving_transverse_distance(z_mean).value))\n",
    "l,cl=PS.kappa_cl(zs1=[z_mean],zs2=[z_mean],p_zs1=[1],p_zs2=[1],pk_func=PS.class_pk,zl_max=z_mean,l=l)\n",
    "p_kappa=cl*cosmo.comoving_transverse_distance(z_mean)**3 / 2 #this is an approximation\n",
    "k_kappa=l/cosmo.comoving_transverse_distance(z_mean)\n",
    "p_kappa_int=interp1d(k_kappa,p_kappa,bounds_error=False, fill_value=0)\n",
    "p_kappa=p_kappa_int(kh)"
   ]
  },
  {
   "cell_type": "code",
   "execution_count": null,
   "metadata": {},
   "outputs": [],
   "source": [
    "plot(kh,p_kappa,'--')\n",
    "plot(kh,p_kk)\n",
    "loglog()"
   ]
  },
  {
   "cell_type": "code",
   "execution_count": null,
   "metadata": {},
   "outputs": [],
   "source": [
    "area=8000 #sq. degrees\n",
    "area_comoving=area*(np.pi/180)**2*cosmo.comoving_distance(z=z_mean)**2\n",
    "L_W=cosmo.comoving_distance(z=z_max)-cosmo.comoving_distance(z=z_min)\n",
    "vol=area_comoving*L_W\n",
    "vol=vol.value\n",
    "area_comoving=area_comoving.value"
   ]
  },
  {
   "cell_type": "code",
   "execution_count": null,
   "metadata": {},
   "outputs": [],
   "source": [
    "p_g_cov=p_g+g_shot_noise\n",
    "p_kk_cov=p_kk+p_kappa+shape_noise\n",
    "p_gk_cov=p_gk"
   ]
  },
  {
   "cell_type": "code",
   "execution_count": null,
   "metadata": {},
   "outputs": [],
   "source": [
    "r,cov_ggkk=HT.projected_covariance(k_pk=kh,pk1=p_g_cov,pk2=p_kk_cov,j_nu=2)\n",
    "r_re,cov_ggkk_re=HT.bin_cov(r=r,cov=cov_ggkk,r_bins=r_bins)\n",
    "corr=HT.corr_matrix(cov=cov_ggkk_re)"
   ]
  },
  {
   "cell_type": "code",
   "execution_count": null,
   "metadata": {},
   "outputs": [],
   "source": [
    "r,cov_gkgk=HT.projected_covariance(k_pk=kh,pk1=p_gk_cov,pk2=p_gk_cov,j_nu=2)\n",
    "r_re,cov_gkgk_re=HT.bin_cov(r=r,cov=cov_gkgk,r_bins=r_bins)\n",
    "corr=HT.corr_matrix(cov=cov_gkgk_re)"
   ]
  },
  {
   "cell_type": "code",
   "execution_count": null,
   "metadata": {},
   "outputs": [],
   "source": [
    "cov_final=(cov_ggkk_re+cov_gkgk_re)/area_comoving\n",
    "corr=HT.corr_matrix(cov=cov_final)\n",
    "errors=HT.diagonal_err(cov=cov_final)"
   ]
  },
  {
   "cell_type": "code",
   "execution_count": null,
   "metadata": {},
   "outputs": [],
   "source": [
    "lowz_dat=np.genfromtxt('./test_Dat/lowz_full.dat',names=True)\n",
    "lowz_cov=np.genfromtxt('./test_Dat//lowz_wgp_cov.dat')\n",
    "lowz_corr=HT.corr_matrix(cov=lowz_cov)"
   ]
  },
  {
   "cell_type": "code",
   "execution_count": null,
   "metadata": {},
   "outputs": [],
   "source": [
    "pcolor(r_re,r_re,corr,vmin=-1,vmax=1,cmap='seismic')\n",
    "colorbar()\n",
    "xscale('log')\n",
    "yscale('log')\n",
    "xlim(HT.rmin,HT.rmax)\n",
    "ylim(HT.rmin,HT.rmax)\n",
    "# colorbar()\n",
    "show()\n",
    "pcolor(lowz_dat['rp'],lowz_dat['rp'],corr,vmin=-1,vmax=1,cmap='seismic')\n",
    "colorbar()\n",
    "xscale('log')\n",
    "yscale('log')\n",
    "xlim(HT.rmin,HT.rmax)\n",
    "ylim(HT.rmin,HT.rmax)\n",
    "# colorbar()"
   ]
  },
  {
   "cell_type": "code",
   "execution_count": null,
   "metadata": {},
   "outputs": [],
   "source": [
    "plot(r_gp,wgp)\n",
    "plot(r_re,errors,'--')\n",
    "xscale('log')\n",
    "yscale('log')\n",
    "xlim(1,110)"
   ]
  },
  {
   "cell_type": "code",
   "execution_count": null,
   "metadata": {},
   "outputs": [],
   "source": [
    "plot(r_gp,wgp)\n",
    "plot(lowz_dat['rp'],lowz_dat['wgp'])\n",
    "plot(lowz_dat['rp'],np.sqrt(np.diag(lowz_cov)))\n",
    "plot(r_re,errors)\n",
    "xscale('log')\n",
    "yscale('log')\n",
    "xlim(1,110)\n",
    "ylim(9.e-3,2)"
   ]
  },
  {
   "cell_type": "code",
   "execution_count": null,
   "metadata": {},
   "outputs": [],
   "source": []
  },
  {
   "cell_type": "raw",
   "metadata": {},
   "source": [
    "cosmo_fid=dict({'h':cosmo.h,'Omb':cosmo.Ob0,'Omd':cosmo.Om0-cosmo.Ob0,'s8':0.817,'Om':cosmo.Om0,\n",
    "                'As':2.12e-09,'mnu':cosmo.m_nu[-1].value,'Omk':cosmo.Ok0,'tau':0.06,'ns':0.965,'w':-1,'wa':0})\n",
    "pk_params={'non_linear':non_linear,'kmax':kmax,'kmin':kmin,'nk':nk}\n",
    "pk_params_lin={'non_linear':0,'kmax':kmax,'kmin':kmin,'nk':nk}"
   ]
  },
  {
   "cell_type": "raw",
   "metadata": {},
   "source": [
    "cosmo.m_nu[-1].value"
   ]
  },
  {
   "cell_type": "raw",
   "metadata": {},
   "source": [
    "cosmo_mnu2=dict({'h':cosmo.h,'Omb':cosmo.Ob0,'Omd':cosmo.Om0-cosmo.Ob0,'s8':0.817,'Om':cosmo.Om0,\n",
    "                'As':2.12e-09,'mnu':cosmo.m_nu[-1].value*2,'Omk':cosmo.Ok0,'tau':0.06,'ns':0.965,'w':-1,'wa':0})\n",
    "\n",
    "cosmo_mnu0=dict({'h':cosmo.h,'Omb':cosmo.Ob0,'Omd':cosmo.Om0-cosmo.Ob0,'s8':0.817,'Om':cosmo.Om0,\n",
    "                'As':2.12e-09,'mnu':cosmo.m_nu[-1].value*0,'Omk':cosmo.Ok0,'tau':0.06,'ns':0.965,'w':-1,'wa':0})\n",
    "\n",
    "cosmo_w=dict({'h':cosmo.h,'Omb':cosmo.Ob0,'Omd':cosmo.Om0-cosmo.Ob0,'s8':0.817,'Om':cosmo.Om0,'Oml':1-cosmo.Om0,\n",
    "                'As':2.12e-09,'mnu':cosmo.m_nu[-1].value,'Omk':cosmo.Ok0,'tau':0.06,'ns':0.965,'w':-1.1,'wa':0})\n",
    "\n",
    "cosmo_wa=dict({'h':cosmo.h,'Omb':cosmo.Ob0,'Omd':cosmo.Om0-cosmo.Ob0,'s8':0.817,'Om':cosmo.Om0,'Oml':1-cosmo.Om0,\n",
    "                'As':2.12e-09,'mnu':cosmo.m_nu[-1].value,'Omk':cosmo.Ok0,'tau':0.06,'ns':0.965,'w':-1.,'wa':.51})"
   ]
  },
  {
   "cell_type": "raw",
   "metadata": {},
   "source": [
    "PS=Power_Spectra(cosmo_params=cosmo_fid,pk_params=pk_params)\n",
    "\n"
   ]
  },
  {
   "cell_type": "raw",
   "metadata": {},
   "source": [
    "z=np.logspace(-2,np.log10(2),20)"
   ]
  },
  {
   "cell_type": "raw",
   "metadata": {},
   "source": [
    "pk,k,s8=PS.class_pk(z=z,return_s8=True)\n",
    "\n",
    "pk_mnu2,k,s8_mnu2=PS.class_pk(z=z,return_s8=True,cosmo_params=cosmo_mnu2)\n",
    "pk_mnu0,k,s8_mnu0=PS.class_pk(z=z,return_s8=True,cosmo_params=cosmo_mnu0)"
   ]
  },
  {
   "cell_type": "raw",
   "metadata": {},
   "source": [
    "pk_w,k,s8_w=PS.class_pk(z=z,return_s8=True,cosmo_params=cosmo_w)\n",
    "pk_wa,k,s8_wa=PS.class_pk(z=z,return_s8=True,cosmo_params=cosmo_wa)"
   ]
  },
  {
   "cell_type": "raw",
   "metadata": {},
   "source": [
    "def get_dz(pki,z,ki=1000):\n",
    "    DZ=np.zeros_like(z)\n",
    "    DZ=np.sqrt(pki[:,ki]/pki[-1][ki])\n",
    "    DZ/=DZ[0]\n",
    "    return DZ\n"
   ]
  },
  {
   "cell_type": "raw",
   "metadata": {},
   "source": [
    "DZ=get_dz(pk,z)\n",
    "DZ_mnu2=get_dz(pk_mnu2,z)\n",
    "DZ_mnu0=get_dz(pk_mnu0,z)\n",
    "DZ_w=get_dz(pk_w,z)\n",
    "DZ_wa=get_dz(pk_wa,z)"
   ]
  },
  {
   "cell_type": "raw",
   "metadata": {},
   "source": [
    "# plot(z,DZ/DZ_mnu2)\n",
    "# plot(z,DZ/DZ_mnu0)\n",
    "plot(z,DZ/DZ_w,label=r'$w_0=-1.1,w_a=0$')\n",
    "plot(z,DZ/DZ_wa,'--',label=r'$w_0=-1.,w_a=0.5$')\n",
    "plot(z,DZ/DZ,':',label=r'$w_0=-1.,w_a=0$')\n",
    "# plot(z,)\n",
    "xlabel('$z$')\n",
    "ylabel('$D(z)$ ratio')\n",
    "legend()"
   ]
  },
  {
   "cell_type": "raw",
   "metadata": {},
   "source": [
    "for i in np.arange(len(z)):\n",
    "    if i%2==0:\n",
    "        continue\n",
    "    lbl=''\n",
    "    plot(k,pk[i,:]/pk_mnu0[i,:],c=colors[0])\n",
    "    plot(k,pk_mnu2[i,:]/pk_mnu0[i,:],':',c=colors[1])\n",
    "#     plot(k,pk[-1,:]/pk_mnu0[-1,:],'--')\n",
    "xscale('log')\n",
    "xlim(1.e-3,3.e-1)\n",
    "xlabel('$k$')\n",
    "ylabel('$P(k)$ ratio')\n",
    "ylim(.92,1)"
   ]
  },
  {
   "cell_type": "raw",
   "metadata": {},
   "source": []
  }
 ],
 "metadata": {
  "kernelspec": {
   "display_name": "Python [default]",
   "language": "python",
   "name": "python3"
  },
  "language_info": {
   "codemirror_mode": {
    "name": "ipython",
    "version": 3
   },
   "file_extension": ".py",
   "mimetype": "text/x-python",
   "name": "python",
   "nbconvert_exporter": "python",
   "pygments_lexer": "ipython3",
   "version": "3.6.7"
  }
 },
 "nbformat": 4,
 "nbformat_minor": 2
}
