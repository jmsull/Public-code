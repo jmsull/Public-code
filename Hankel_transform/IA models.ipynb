{
 "cells": [
  {
   "cell_type": "code",
   "execution_count": null,
   "metadata": {},
   "outputs": [],
   "source": [
    "%pylab inline\n",
    "from power_spectra import *\n",
    "from scipy.special import jn, jn_zeros\n",
    "from scipy.interpolate import interp1d\n",
    "from hankel_transform import *\n",
    "from astropy.cosmology import Planck13 #use Planck15 if you can\n",
    "import astropy.units as u\n",
    "from matplotlib import rc\n",
    "rc('text', usetex=False)\n",
    "import scipy\n",
    "from scipy.interpolate import interp1d\n",
    "import fastpt as fpt\n",
    "\n",
    "from astropy.table import Table, hstack,join,vstack\n",
    "\n",
    "from scipy.odr import ODR, Model, Data, RealData\n",
    "from scipy.special import eval_legendre as legendre\n",
    "from mcfit import P2xi\n",
    "from scipy.special import gamma\n",
    "\n",
    "from scipy.interpolate import interp1d\n",
    "\n",
    "import seaborn as sns\n",
    "import colorsys\n",
    "import matplotlib.colors as mc\n",
    "\n",
    "colors=sns.color_palette()\n",
    "markers=['o','^','>','<','v','s']"
   ]
  },
  {
   "cell_type": "code",
   "execution_count": null,
   "metadata": {},
   "outputs": [],
   "source": [
    "def chisq_dat(p,rp,wgg,wgm,cov_inv_gg,cov_inv_gm,wgg_func,wgm_func,fz,xi,do_DS,bg1):\n",
    "    bg=np.atleast_1d(p[0])\n",
    "    if bg1 is None:\n",
    "        bg1=bg\n",
    "    A_I=np.atleast_1d(p[1])\n",
    "    njk=100\n",
    "    hf=(njk-1.)/(njk-2.-len(rp))\n",
    "    wgg_model=wgg_func(bg=np.atleast_1d(bg),bg2=np.atleast_1d(bg1),f=fz,xi=xi)\n",
    "    beta2=-3\n",
    "    if do_DS: #IA\n",
    "        beta2=-1\n",
    "    wgm_model=wgm_func(bg=bg,f=fz,xi=xi,do_DS=do_DS,beta2=beta2)*A_I\n",
    "    loss_gg=wgg-wgg_model[0]\n",
    "    loss_gm=wgm-wgm_model[0]\n",
    "    chisq=loss_gg@(cov_inv_gg@loss_gg)\n",
    "    chisq+=loss_gm@(cov_inv_gm@loss_gm)\n",
    "    chisq/=hf\n",
    "    print(hf)\n",
    "    return .5*chisq"
   ]
  },
  {
   "cell_type": "code",
   "execution_count": null,
   "metadata": {},
   "outputs": [],
   "source": [
    "def dat_cut(dat={},rp_max=65,rp_min=5,njk=100,diag_cov=False):\n",
    "    dc={}\n",
    "    x=dat[0]['1bin_value']>rp_min\n",
    "    x*=dat[0]['1bin_value']<rp_max\n",
    "    for i in dat.keys():\n",
    "        dc[i]=dat[i][x]\n",
    "    cov_gm,corr_gm=cc.dict_cov(dic=dc,var='6e',stack=1)\n",
    "    cov_gg,dc['corr_gg']=cc.dict_cov(dic=dc,var='4W',stack=1)\n",
    "    if diag_cov:\n",
    "        cov_gm=np.diag(np.diag(cov_gm))\n",
    "        cov_gg=np.diag(np.diag(cov_gg))\n",
    "    hf=1 #(njk-1.)/(njk-2.-x.sum()) #we are using t-dist\n",
    "    dc['cov_gm']=cov_gm*99.*99./100*hf\n",
    "    dc['cov_gg']=cov_gg*99.*99./100*hf\n",
    "    dc['corr_gm']=corr_gm\n",
    "    dc['err']=None\n",
    "    try:\n",
    "        dc['cov_inv_gm']=np.linalg.inv(dc['cov_gm'])\n",
    "        dc['cov_inv_gg']=np.linalg.inv(dc['cov_gg'])\n",
    "    except Exception as err:\n",
    "        print(err)\n",
    "        dc['err']=err\n",
    "    return dc"
   ]
  },
  {
   "cell_type": "code",
   "execution_count": null,
   "metadata": {},
   "outputs": [],
   "source": [
    "def w_to_DS(rp=[],w=[],**kwargs):\n",
    "    return 2.*integrate.cumtrapz(w*rp,x=rp,initial=0)/rp**2-w\n",
    "\n",
    "def w_to_ups(rp,w,r0):\n",
    "    DS=w_to_DS(rp,w)\n",
    "    ups=DS_to_ups(rp,DS,r0)\n",
    "    return ups\n",
    "\n",
    "def w_to_ups_jk(dat={},col='6e',r0=0.2,njk=100):\n",
    "    rp=dat[0]['1bin_value']\n",
    "    uk={}\n",
    "    for i in np.arange(njk):\n",
    "        uk[i]=w_to_ups(rp=rp,w=dat[i][col],r0=r0)\n",
    "        dat[i][col]=uk[i]\n",
    "    uk=jk_mean(uk,njk=njk)\n",
    "    i='data'\n",
    "    dat[i][col]=uk['jk']\n",
    "    return dat\n",
    "\n",
    "def DS_to_ups(rp,DS,r0):\n",
    "#     DS_intp=interp1d(np.log(rp),np.log(DS),bounds_error=True,kind='linear')\n",
    "    # DS0=np.exp(DS_intp(np.log(r0)))\n",
    "    DS_intp=interp1d(rp,DS,bounds_error=True,kind='linear')\n",
    "    DS0=DS_intp(r0)\n",
    "    ups=DS-DS0*(r0**2)/rp**2\n",
    "    x=rp<r0\n",
    "    ups[x]*=0\n",
    "    return ups#[rp>r0]"
   ]
  },
  {
   "cell_type": "code",
   "execution_count": null,
   "metadata": {},
   "outputs": [],
   "source": [
    "def fit_dat(home='',dataset='',corr='fp',z=np.atleast_1d([0.27]),rp_max=30,rp_min=5,njk=100,lbl='',use_chisq=False,diag_cov=False,bg1=None,kappa_ups=False):\n",
    "    kargs=locals()\n",
    "    dat0=jk_read(home=hm,dataset=fn,njk=njk)\n",
    "    if kappa_ups:\n",
    "        dat0=w_to_ups_jk(dat=dat0,njk=njk)\n",
    "    dat=dat_cut(dat=dat0,rp_max=rp_max,rp_min=rp_min,njk=njk,diag_cov=diag_cov)\n",
    "    if dat['err'] is not None:\n",
    "        return dat\n",
    "    pk,k=PS.camb_pk(z=z)\n",
    "    rp=dat[0]['1bin_value']\n",
    "    w_th=Projected_Corr_RSD(rp=rp,pi_max=100,k=k) #####implement binning\n",
    "    xi0=w_th.get_xi(pk=pk)\n",
    "    f=np.atleast_1d(cosmo2.f_z(z=z))\n",
    "    wgp_f0=wgp_f[z[0]]\n",
    "    \n",
    "    if corr=='fp':\n",
    "        do_DS=False\n",
    "        wgp_f0/=3\n",
    "        if kappa_ups:\n",
    "            do_DS=True\n",
    "    if corr=='ia':\n",
    "        do_DS=True\n",
    "      \n",
    "    p0=[1,1.*wgp_f0]\n",
    "    params={}\n",
    "    bg1_i=None\n",
    "    for i in np.arange(njk):\n",
    "        if bg1 is not None:\n",
    "            bg1_i=bg1[i]\n",
    "        if use_chisq:\n",
    "            pm=minimize(chisq_dat,p0,args=(rp,dat[i]['4W'],dat[i]['6e'],dat['cov_inv_gg'],dat['cov_inv_gm'], w_th.wgg_calc,w_th.wgm_calc,f,xi0,do_DS,bg1_i) ,)\n",
    "        else:\n",
    "            pm=minimize(t_dist,p0,args=(rp,dat[i]['4W'],dat[i]['6e'],dat['cov_inv_gg'],dat['cov_inv_gm'], w_th.wgg_calc,w_th.wgm_calc,f,xi0,do_DS,bg1_i) ,)\n",
    "        params[i]=pm.x\n",
    "        params[i][1]/=wgp_f0\n",
    "    params=jk_mean(params,njk=njk)\n",
    "    chisq_jk=2*chisq_dat([params['jk'][0],params['jk'][1]*wgp_f0],rp,dat[i]['4W'],dat[i]['6e'],dat['cov_inv_gg'],dat['cov_inv_gm'], w_th.wgg_calc,w_th.wgm_calc,f,xi0,do_DS,bg1_i)\n",
    "    chisq_jk_gg=2*chisq_dat([params['jk'][0],params['jk'][1]*wgp_f0],rp,dat[i]['4W'],dat[i]['6e'],dat['cov_inv_gg'],dat['cov_inv_gm']*0, w_th.wgg_calc,w_th.wgm_calc,f,xi0,do_DS,bg1_i)\n",
    "    chisq_jk_gm=2*chisq_dat([params['jk'][0],params['jk'][1]*wgp_f0],rp,dat[i]['4W'],dat[i]['6e'],dat['cov_inv_gg']*0,dat['cov_inv_gm'], w_th.wgg_calc,w_th.wgm_calc,f,xi0,do_DS,bg1_i)\n",
    "    for i in ['data','data0']:\n",
    "        if bg1 is not None:\n",
    "            bg1_i=bg1[i]\n",
    "        if use_chisq:\n",
    "            pm=minimize(chisq_dat,p0,args=(rp,dat[i]['4W'],dat[i]['6e'],dat['cov_inv_gg'],dat['cov_inv_gm'], w_th.wgg_calc,w_th.wgm_calc,f,xi0,do_DS,bg1_i) ,)\n",
    "        else:\n",
    "            pm=minimize(t_dist,p0,args=(rp,dat[i]['4W'],dat[i]['6e'],dat['cov_inv_gg'],dat['cov_inv_gm'], w_th.wgg_calc,w_th.wgm_calc,f,xi0,do_DS,bg1_i) ,)\n",
    "        params[i]=pm.x\n",
    "        params[i][1]/=wgp_f0\n",
    "    out={}\n",
    "    out['dat']=dat0\n",
    "    out['dat_cut']=dat\n",
    "    out['params']=params\n",
    "    out['chisq']=chisq_jk\n",
    "    out['chisq_gg']=chisq_jk_gg\n",
    "    out['chisq_gm']=chisq_jk_gm\n",
    "    \n",
    "    rp=dat0[0]['1bin_value']\n",
    "    w_th=Projected_Corr_RSD(rp=rp,pi_max=100,k=k) #####implement binning\n",
    "    xi0=w_th.get_xi(pk=pk)\n",
    "    bg=np.atleast_1d(params['jk'][0])\n",
    "    bg2=bg\n",
    "    A_I=np.atleast_1d(params['jk'][1])\n",
    "    if bg1 is not None:\n",
    "        bg2=bg1['jk']\n",
    "    out['wgg_model']=w_th.wgg_calc(bg=np.atleast_1d(bg),f=f,xi=xi0,bg2=bg2)[0]\n",
    "    out['wgm_model']=w_th.wgm_calc(bg=bg2,f=f,xi=xi0,do_DS=do_DS)[0]*wgp_f0*A_I\n",
    "    out['f']=f\n",
    "    out['wgp_f']=wgp_f0\n",
    "    out['corr']=corr\n",
    "    out['rp_max']=rp_max\n",
    "    out['rp_min']=rp_min\n",
    "    out['label']=lbl\n",
    "    out['z']=z\n",
    "    if corr=='fp' and not kappa_ups:\n",
    "        kargs['kappa_ups']=True\n",
    "        out['wgp']=fit_dat(**kargs)\n",
    "    return out"
   ]
  },
  {
   "cell_type": "code",
   "execution_count": null,
   "metadata": {},
   "outputs": [],
   "source": [
    "def lighten_color(color, amount=0.2):\n",
    "    \"\"\"\n",
    "    Lightens the given color by multiplying (1-luminosity) by the given amount.\n",
    "    Input can be matplotlib color string, hex string, or RGB tuple.\n",
    "\n",
    "    Examples:\n",
    "    >> lighten_color('g', 0.3)\n",
    "    >> lighten_color('#F034A3', 0.6)\n",
    "    >> lighten_color((.3,.55,.1), 0.5)\n",
    "    \"\"\"\n",
    "    c = colorsys.rgb_to_hls(*mc.to_rgb(color))\n",
    "    return colorsys.hls_to_rgb(c[0], 1 - amount * (1 - c[1]), c[2])\n",
    "\n",
    "def plot_corrs(datasets={},rp_pow=1,wgp_ylim=None,wgg_ylim=None,legend_loc=(.8, 1.0),legend_col=1,\n",
    "               b_x=0.2,A_x=0.2,b_y=100,db_y=15,A_y=-1,dA_y=0.6,split_A_x=None,dA_x=10,ignore_wgg=False,\n",
    "               drp=0.03,xlim=(0.1,110),text_info=None,ti_x=0,ti_y=0,plot_1wgg=False,no_legend=False,\n",
    "              fname=None,text_fontsize=30):\n",
    "    if ignore_wgg:\n",
    "        wgg_fig,wgg_axes =subplots(nrows=1, ncols=1, sharex=True, sharey=False,figsize=(15,10))\n",
    "        wgp_plot=wgg_axes\n",
    "    else:\n",
    "        wgg_fig,wgg_axes =subplots(nrows=2, ncols=1, sharex=True, sharey=False,figsize=(15,20))\n",
    "    #     wgp_fig,wgp_axes =subplots(nrows=1, ncols=1, sharex=True, sharey=False)\n",
    "        wgg_plot=wgg_axes[0]\n",
    "        wgp_plot=wgg_axes[1]\n",
    "     \n",
    "    ik=0\n",
    "    for k in datasets.keys():\n",
    "        color=colors[ik%len(colors)]\n",
    "        marker=markers[ik%len(colors)]\n",
    "        out=datasets[k]\n",
    "        lbl=out['label']\n",
    "        corr=out['corr']\n",
    "        y_label=labels['fp']\n",
    "        tl='\\lambda'\n",
    "        if corr=='ia':\n",
    "            y_label=labels['ia']\n",
    "            tl='I'\n",
    "        rp=out['dat'][0]['1bin_value']\n",
    "        frp=rp**rp_pow\n",
    "        print(k,'chisq :',out['chisq'],out['chisq_gg'],out['chisq_gm'])\n",
    "        if plot_1wgg and ik>0:\n",
    "            pass\n",
    "        elif not ignore_wgg:\n",
    "            wgg_plot.errorbar(rp*(1+ik*drp),frp*out['dat']['data']['4W'],frp*out['dat']['data']['5W_err'],fmt=marker,color=color,label=lbl,mfc='white',mew=3,mec=color,zorder=1)\n",
    "            wgg_plot.plot(rp*(1+ik*drp),frp*out['wgg_model'],ls='-',color=color,zorder=0)\n",
    "            wgg_plot.set_xlabel(r'$r_p$ [Mpc/h]')\n",
    "            wgg_plot.set_ylabel(labels['gg'])\n",
    "            if rp_pow>0:\n",
    "                wgg_plot.set_ylabel(r'$r_p$'+labels['gg']+'$^'+str(rp_pow+1)+'$')\n",
    "            wgg_plot.text(x=b_x,y=b_y-ik*db_y,s='b='+round_significant_digit(out['params']['jk'][0],out['params']['jk_err'][0]),color=color,zorder=100,\n",
    "                         bbox=dict(facecolor=lighten_color(color),#'lightgrey', \n",
    "                                   alpha=1,ec='white',lw=0),fontsize=text_fontsize)\n",
    "            if ik==0:\n",
    "                if wgg_ylim is None:\n",
    "                    wgg_plot.vlines(out['rp_min'],(frp*out['dat']['data']['4W']).min(),(frp*out['dat']['data']['4W']).max(),color='c',linestyle=':')\n",
    "                    wgg_plot.vlines(out['rp_max'],(frp*out['dat']['data']['4W']).min(),(frp*out['dat']['data']['4W']).max(),color='c',linestyle=':')\n",
    "                else:\n",
    "                    wgg_plot.vlines(out['rp_min'],min(wgg_ylim),max(wgg_ylim),color='c',linestyle=':')\n",
    "                    wgg_plot.vlines(out['rp_max'],min(wgg_ylim),max(wgg_ylim),color='c',linestyle=':')\n",
    "            wgg_plot.set_ylim(wgg_ylim)\n",
    "                \n",
    "        wgp_plot.errorbar(rp*(1+ik*drp),frp*out['dat']['data']['6e'],frp*out['dat']['data']['7e_err'],fmt=marker,label=lbl,color=color,mfc='white',mew=3,mec=color,zorder=1)\n",
    "        wgp_plot.plot(rp*(1+ik*drp),frp*out['wgm_model'],'-',color=color,zorder=0)\n",
    "        if split_A_x is not None:\n",
    "            if ik==split_A_x:\n",
    "                A_x=A_x+dA_x\n",
    "                A_y=A_y+dA_y*ik\n",
    "        wgp_plot.text(x=A_x,y=A_y-dA_y*ik,s='$A_'+tl+'$='+round_significant_digit(out['params']['jk'][1],out['params']['jk_err'][1]),color=color,zorder=100,\n",
    "                     bbox=dict(facecolor=lighten_color(color),#'lightgrey', \n",
    "                               alpha=1,ec='white',lw=0),fontsize=text_fontsize)\n",
    "        if ik==0:\n",
    "            if wgp_ylim is None:\n",
    "                wgp_plot.vlines(out['rp_min'],(frp*out['dat']['data']['6e']).min(),(frp*out['dat']['data']['6e']).max(),color='c',linestyle=':',zorder=-1)\n",
    "                wgp_plot.vlines(out['rp_max'],(frp*out['dat']['data']['6e']).min(),(frp*out['dat']['data']['6e']).max(),color='c',linestyle=':',zorder=-1)\n",
    "            else:\n",
    "                wgp_plot.vlines(out['rp_min'],min(wgp_ylim),max(wgp_ylim),color='c',linestyle=':',zorder=-1)\n",
    "                wgp_plot.vlines(out['rp_max'],min(wgp_ylim),max(wgp_ylim),color='c',linestyle=':',zorder=-1)\n",
    "        wgp_plot.set_xlabel(r'$r_p$ [Mpc/h]')\n",
    "        wgp_plot.set_ylabel(y_label)\n",
    "        if rp_pow>0:\n",
    "            print(r'$r_p$'+y_label+'$^'+str(rp_pow+1)+'$')\n",
    "            wgp_plot.set_ylabel(r'$r_p$'+y_label+'$^'+str(rp_pow+1)+'$')\n",
    "            wgp_plot.hlines(0,0.001,200,color='k',linestyle='--',lw=2,zorder=-1)\n",
    "        #wgp_plot.legend()\n",
    "      \n",
    "        wgp_plot.set_xscale('log')\n",
    "        wgp_plot.set_ylim(wgp_ylim)\n",
    "        wgp_plot.set_xlim(xlim)\n",
    "        if rp_pow==0:\n",
    "            wgp_plot.set_yscale('log')\n",
    "            wgg_plot.set_yscale('log')\n",
    "        ik+=1\n",
    "    if not no_legend:\n",
    "        if plot_1wgg or ignore_wgg:\n",
    "            wgp_plot.legend(loc='upper right',bbox_to_anchor=legend_loc,ncol=legend_col)\n",
    "        else:\n",
    "            wgg_plot.legend(loc='upper left',bbox_to_anchor=legend_loc,ncol=legend_col)\n",
    "\n",
    "\n",
    "    if text_info is not None:\n",
    "        if ignore_wgg:\n",
    "            t_plot=wgp_plot\n",
    "        else:\n",
    "            t_plot=wgg_plot\n",
    "        t_plot.text(x=ti_x,y=ti_y,s=text_info,color='k',zorder=100,\n",
    "                     bbox=dict(facecolor='white', alpha=1,ec='white',lw=0)\n",
    "                          )\n",
    "\n",
    "    if fname is not None:\n",
    "        fname=fig_home+fname\n",
    "        wgg_fig.savefig(fname,bbox_inches='tight',fig_format=fig_format)\n",
    "    wgg_fig.show()\n",
    "    return 0"
   ]
  },
  {
   "cell_type": "code",
   "execution_count": null,
   "metadata": {},
   "outputs": [],
   "source": [
    "DI={}"
   ]
  },
  {
   "cell_type": "raw",
   "metadata": {},
   "source": [
    "hm='./lowz12_fp/data_out/full/coor_data_out/'\n",
    "fn='fullfull_fp_full_fsc_zb02_r1_wt2_Rwt0'\n",
    "D[fn]=fit_dat(home=hm,dataset=fn,corr='fp',lbl='$\\lambda_{1,zb,sc}$',)\n",
    "\n"
   ]
  },
  {
   "cell_type": "code",
   "execution_count": null,
   "metadata": {},
   "outputs": [],
   "source": []
  },
  {
   "cell_type": "code",
   "execution_count": null,
   "metadata": {},
   "outputs": [],
   "source": [
    "cosmo=Planck13.clone()#we want h=1 for some comparisons"
   ]
  },
  {
   "cell_type": "code",
   "execution_count": null,
   "metadata": {},
   "outputs": [],
   "source": [
    "cosmo.Ob0"
   ]
  },
  {
   "cell_type": "code",
   "execution_count": null,
   "metadata": {},
   "outputs": [],
   "source": [
    "kmax=30\n",
    "kmin=.8e-3\n",
    "k_smooth=1\n",
    "nk=5000\n",
    "rmin=1\n",
    "rmax=100\n",
    "non_linear=1\n",
    "\n",
    "r_bins=np.logspace(-1,np.log10(100),21) #np.logspace(0,2,11)"
   ]
  },
  {
   "cell_type": "code",
   "execution_count": null,
   "metadata": {},
   "outputs": [],
   "source": [
    "cosmo_fid=dict({'h':cosmo.h,'Omb':cosmo.Ob0,'Omd':cosmo.Om0-cosmo.Ob0,'s8':0.817,'Om':cosmo.Om0,\n",
    "                'As':2.12e-09,'mnu':cosmo.m_nu[-1].value,'Omk':cosmo.Ok0,'tau':0.06,'ns':0.965,'w':-1,'wa':0})\n",
    "pk_params={'non_linear':non_linear,'kmax':kmax,'kmin':kmin,'nk':nk}\n",
    "pk_params_lin={'non_linear':0,'kmax':kmax,'kmin':kmin,'nk':nk}"
   ]
  },
  {
   "cell_type": "code",
   "execution_count": null,
   "metadata": {},
   "outputs": [],
   "source": [
    "PS=Power_Spectra(cosmo_params=cosmo_fid,pk_params=pk_params)\n",
    "PS_lin=Power_Spectra(cosmo_params=cosmo_fid,pk_params=pk_params_lin)"
   ]
  },
  {
   "cell_type": "code",
   "execution_count": null,
   "metadata": {},
   "outputs": [],
   "source": [
    "z_min=0.16\n",
    "z_max=0.36\n",
    "z_mean=0.27"
   ]
  },
  {
   "cell_type": "code",
   "execution_count": null,
   "metadata": {},
   "outputs": [],
   "source": [
    "pk,kh =PS.class_pk(z=[z_mean])"
   ]
  },
  {
   "cell_type": "code",
   "execution_count": null,
   "metadata": {},
   "outputs": [],
   "source": [
    "#growth factor\n",
    "PS.DZ_int(z=[0,z_mean])"
   ]
  },
  {
   "cell_type": "code",
   "execution_count": null,
   "metadata": {},
   "outputs": [],
   "source": [
    "z0=0.0\n",
    "pk0_lin,kh0 = PS_lin.class_pk(z=[z0])"
   ]
  },
  {
   "cell_type": "code",
   "execution_count": null,
   "metadata": {},
   "outputs": [],
   "source": [
    "#Plot some stuff to check\n",
    "plot(kh0,pk0_lin[0], 'r--', label='$P_{lin}(k)$')\n",
    "plot(kh,pk[0], 'g-', label='$P_{nl}(k)$')\n",
    "\n",
    "xscale('log')\n",
    "yscale('log')\n",
    "xlabel('$k$', fontsize=14)\n",
    "ylabel('$P(k)$', fontsize=14)\n",
    "legend(loc='lower left', fontsize=12, frameon=False)"
   ]
  },
  {
   "cell_type": "code",
   "execution_count": null,
   "metadata": {
    "scrolled": true
   },
   "outputs": [],
   "source": [
    "#Setting up the Hankel Transform\n",
    "#This part is slower. But only needs to be run once. \n",
    "#If you only need wgg, set j_nu=[0]. For wg+ (or \\Delta\\Sigma) use j_nu=[2]\n",
    "%time HT=hankel_transform(rmin=rmin,rmax=rmax,kmax=kmax,j_nu=[0,2,4],n_zeros=28000,kmin=kmin)\n",
    "#HT=hankel_transform(rmin=1,rmax=rmax,kmax=1,j_nu=[0,2],n_zeros=2800,kmin=1.e-2)#quick test... inaccurate"
   ]
  },
  {
   "cell_type": "code",
   "execution_count": null,
   "metadata": {},
   "outputs": [],
   "source": [
    "pk_taper=HT.taper(k=kh,pk=pk[0],large_k_lower=5,large_k_upper=kmax,low_k_lower=kmin,\n",
    "                     low_k_upper=kmin*2)\n",
    "#need atleast k=10 and k=1.e-3 to get decent wgg for 1-100 Mpc/h range."
   ]
  },
  {
   "cell_type": "code",
   "execution_count": null,
   "metadata": {},
   "outputs": [],
   "source": [
    "from scipy.integrate import quad as scipy_int1d"
   ]
  },
  {
   "cell_type": "code",
   "execution_count": null,
   "metadata": {},
   "outputs": [],
   "source": [
    "cosmo.H(z=[0]).value"
   ]
  },
  {
   "cell_type": "code",
   "execution_count": null,
   "metadata": {},
   "outputs": [],
   "source": [
    "def DZ_int(z=[0],cosmo=None,rtol=1.e-4,tol=1.e-5): #linear growth factor.. full integral.. eq 63 in Lahav and suto\n",
    "        Ez_func=cosmo.efunc\n",
    "        def intf(z):\n",
    "            return (1.+z)/(cosmo.H(z=z).value**3)\n",
    "        dz=np.zeros_like(z,dtype='float32')\n",
    "        inf=np.inf\n",
    "        j=0\n",
    "        for i in z:\n",
    "            dz[j]+=cosmo.H(i).value*scipy_int1d(intf,i,inf,epsrel=rtol,epsabs=tol)[0]\n",
    "            j=j+1\n",
    "        dz=dz*2.5*cosmo.Om0*cosmo.H0**2\n",
    "        return dz/dz[0] #check for normalization"
   ]
  },
  {
   "cell_type": "code",
   "execution_count": null,
   "metadata": {},
   "outputs": [],
   "source": [
    "b_g=1.8\n",
    "A_I=4.5\n",
    "C1_rhoC=0.0134\n",
    "Om=cosmo.Om0\n",
    "Dz=DZ_int(z=np.append([0],z_mean),cosmo=cosmo)# Dz is normalized to 1 at lowest z. \n",
    "                                    #Hence appending 0 in front to get Dz normalized to 1 at z=0\n",
    "Dz=Dz[1]/Dz[0]\n",
    "wgg_f=b_g**2\n",
    "wgp_f=b_g*A_I*C1_rhoC*Om/Dz\n",
    "wpp_f=(A_I*C1_rhoC*Om/Dz)**2"
   ]
  },
  {
   "cell_type": "code",
   "execution_count": null,
   "metadata": {},
   "outputs": [],
   "source": [
    "r_gg,wgg=HT.projected_correlation(k_pk=kh,pk=pk[0]*wgg_f,j_nu=0)\n",
    "%time r_gg,wgg_taper=HT.projected_correlation(k_pk=kh,pk=pk_taper*wgg_f,j_nu=0)\n",
    "\n",
    "r_gp,wgp=HT.projected_correlation(k_pk=kh,pk=pk[0]*wgp_f,j_nu=2)\n",
    "\n",
    "r_pp,wpp4=HT.projected_correlation(k_pk=kh,pk=pk[0]*wpp_f,j_nu=4)\n",
    "r_pp0,wpp0=HT.projected_correlation(k_pk=kh,pk=pk[0]*wpp_f,j_nu=0)\n",
    "\n",
    "wpp0_intp=interp1d(r_pp0,wpp0,bounds_error=False,fill_value=np.nan)\n",
    "wpp=wpp4+wpp0_intp(r_pp)"
   ]
  },
  {
   "cell_type": "code",
   "execution_count": null,
   "metadata": {},
   "outputs": [],
   "source": [
    "plot(r_gg,r_gg*wgg,label='No tapering')\n",
    "plot(r_gg,r_gg*wgg_taper,label='tapering')\n",
    "#plot(wgg_test['rp'],wgg_test['rp']*wgg_test['wgg']*wgg_test_fact)\n",
    "xscale('log')\n",
    "#yscale('log')\n",
    "#ylim(1.e-2,1.e3)\n",
    "xlim(1,110)\n",
    "xlabel('$r_p$ [Mpc/h]')\n",
    "ylabel('$w_{gg}$ [Mpc/h]')\n",
    "\n",
    "legend()"
   ]
  },
  {
   "cell_type": "code",
   "execution_count": null,
   "metadata": {},
   "outputs": [],
   "source": [
    "plot(r_gp,wgp,label='No tapering')\n",
    "xscale('log')\n",
    "yscale('log')\n",
    "xlim(1,110)\n",
    "xlabel('$r_p$ [Mpc/h]')\n",
    "ylabel('$w_{g+}$ [Mpc/h]')\n",
    "ylim(1.e-2,20)\n",
    "legend()"
   ]
  },
  {
   "cell_type": "code",
   "execution_count": null,
   "metadata": {},
   "outputs": [],
   "source": [
    "plot(r_pp,r_pp*wpp,label='No tapering')\n",
    "xscale('log')\n",
    "xlim(1,110)\n",
    "xlabel('$r_p$ [Mpc/h]')\n",
    "ylabel('$w_{++}$ [Mpc/h]')\n",
    "# ylim(0,72)\n",
    "legend()"
   ]
  },
  {
   "cell_type": "code",
   "execution_count": null,
   "metadata": {},
   "outputs": [],
   "source": [
    "plot(r_gg,wgg-wgg_taper,'r')\n",
    "xscale('log')\n",
    "xlabel('$r_p$ [Mpc/h]')"
   ]
  },
  {
   "cell_type": "markdown",
   "metadata": {},
   "source": [
    "# Covariance"
   ]
  },
  {
   "cell_type": "code",
   "execution_count": null,
   "metadata": {},
   "outputs": [],
   "source": [
    "n_g=3.e-4 #number density.. in units of Mpc ^ -3, same as pk\n",
    "g_shot_noise=1./n_g\n",
    "b_g=1.8\n",
    "p_g=pk[0]*wgg_f"
   ]
  },
  {
   "cell_type": "code",
   "execution_count": null,
   "metadata": {},
   "outputs": [],
   "source": [
    "sigma_e=.36\n",
    "sigma_gamma=sigma_e/1.7\n",
    "n_s=n_g #shape galaxy number density \n",
    "shape_noise=sigma_gamma**2/n_s#*cosmo.H_z(z=0.27)/cosmo.c\n",
    "p_gk=pk[0]*wgp_f\n",
    "p_kk=pk[0]*wpp_f"
   ]
  },
  {
   "cell_type": "code",
   "execution_count": null,
   "metadata": {},
   "outputs": [],
   "source": [
    "#lensing contribution\n",
    "l=np.unique(np.int32(kh*cosmo.comoving_transverse_distance(z_mean).value))\n",
    "l,cl=PS.kappa_cl(zs1=[z_mean],zs2=[z_mean],p_zs1=[1],p_zs2=[1],pk_func=PS.class_pk,zl_max=z_mean,l=l)\n",
    "p_kappa=cl*cosmo.comoving_transverse_distance(z_mean)**3 / 2 #this is an approximation\n",
    "k_kappa=l/cosmo.comoving_transverse_distance(z_mean)\n",
    "p_kappa_int=interp1d(k_kappa,p_kappa,bounds_error=False, fill_value=0)\n",
    "p_kappa=p_kappa_int(kh)"
   ]
  },
  {
   "cell_type": "code",
   "execution_count": null,
   "metadata": {},
   "outputs": [],
   "source": [
    "plot(kh,p_kappa,'--')\n",
    "plot(kh,p_kk)\n",
    "loglog()"
   ]
  },
  {
   "cell_type": "code",
   "execution_count": null,
   "metadata": {},
   "outputs": [],
   "source": [
    "area=8000 #sq. degrees\n",
    "area_comoving=area*(np.pi/180)**2*cosmo.comoving_distance(z=z_mean)**2\n",
    "L_W=cosmo.comoving_distance(z=z_max)-cosmo.comoving_distance(z=z_min)\n",
    "vol=area_comoving*L_W\n",
    "vol=vol.value\n",
    "area_comoving=area_comoving.value"
   ]
  },
  {
   "cell_type": "code",
   "execution_count": null,
   "metadata": {},
   "outputs": [],
   "source": [
    "p_g_cov=p_g+g_shot_noise\n",
    "p_kk_cov=p_kk+p_kappa+shape_noise\n",
    "p_gk_cov=p_gk"
   ]
  },
  {
   "cell_type": "code",
   "execution_count": null,
   "metadata": {},
   "outputs": [],
   "source": [
    "r,cov_ggkk=HT.projected_covariance(k_pk=kh,pk1=p_g_cov,pk2=p_kk_cov,j_nu=2)\n",
    "r_re,cov_ggkk_re=HT.bin_cov(r=r,cov=cov_ggkk,r_bins=r_bins)\n",
    "corr=HT.corr_matrix(cov=cov_ggkk_re)"
   ]
  },
  {
   "cell_type": "code",
   "execution_count": null,
   "metadata": {},
   "outputs": [],
   "source": [
    "r,cov_gkgk=HT.projected_covariance(k_pk=kh,pk1=p_gk_cov,pk2=p_gk_cov,j_nu=2)\n",
    "r_re,cov_gkgk_re=HT.bin_cov(r=r,cov=cov_gkgk,r_bins=r_bins)\n",
    "corr=HT.corr_matrix(cov=cov_gkgk_re)"
   ]
  },
  {
   "cell_type": "code",
   "execution_count": null,
   "metadata": {},
   "outputs": [],
   "source": [
    "cov_final=(cov_ggkk_re+cov_gkgk_re)/area_comoving\n",
    "corr=HT.corr_matrix(cov=cov_final)\n",
    "errors=HT.diagonal_err(cov=cov_final)"
   ]
  },
  {
   "cell_type": "code",
   "execution_count": null,
   "metadata": {},
   "outputs": [],
   "source": [
    "lowz_dat=np.genfromtxt('./test_Dat/lowz_full.dat',names=True)\n",
    "lowz_cov=np.genfromtxt('./test_Dat//lowz_wgp_cov.dat')\n",
    "lowz_corr=HT.corr_matrix(cov=lowz_cov)"
   ]
  },
  {
   "cell_type": "code",
   "execution_count": null,
   "metadata": {},
   "outputs": [],
   "source": [
    "pcolor(r_re,r_re,corr,vmin=-1,vmax=1,cmap='seismic')\n",
    "colorbar()\n",
    "xscale('log')\n",
    "yscale('log')\n",
    "xlim(HT.rmin,HT.rmax)\n",
    "ylim(HT.rmin,HT.rmax)\n",
    "# colorbar()\n",
    "show()\n",
    "pcolor(lowz_dat['rp'],lowz_dat['rp'],corr,vmin=-1,vmax=1,cmap='seismic')\n",
    "colorbar()\n",
    "xscale('log')\n",
    "yscale('log')\n",
    "xlim(HT.rmin,HT.rmax)\n",
    "ylim(HT.rmin,HT.rmax)\n",
    "# colorbar()"
   ]
  },
  {
   "cell_type": "code",
   "execution_count": null,
   "metadata": {},
   "outputs": [],
   "source": [
    "plot(r_gp,wgp)\n",
    "plot(r_re,errors,'--')\n",
    "xscale('log')\n",
    "yscale('log')\n",
    "xlim(1,110)"
   ]
  },
  {
   "cell_type": "code",
   "execution_count": null,
   "metadata": {},
   "outputs": [],
   "source": [
    "plot(r_gp,wgp)\n",
    "plot(lowz_dat['rp'],lowz_dat['wgp'])\n",
    "plot(lowz_dat['rp'],np.sqrt(np.diag(lowz_cov)))\n",
    "plot(r_re,errors)\n",
    "xscale('log')\n",
    "yscale('log')\n",
    "xlim(1,110)\n",
    "ylim(9.e-3,2)"
   ]
  },
  {
   "cell_type": "code",
   "execution_count": null,
   "metadata": {},
   "outputs": [],
   "source": []
  },
  {
   "cell_type": "code",
   "execution_count": null,
   "metadata": {},
   "outputs": [],
   "source": []
  }
 ],
 "metadata": {
  "kernelspec": {
   "display_name": "Python 3",
   "language": "python",
   "name": "python3"
  },
  "language_info": {
   "codemirror_mode": {
    "name": "ipython",
    "version": 3
   },
   "file_extension": ".py",
   "mimetype": "text/x-python",
   "name": "python",
   "nbconvert_exporter": "python",
   "pygments_lexer": "ipython3",
   "version": "3.7.3"
  }
 },
 "nbformat": 4,
 "nbformat_minor": 2
}
