{
 "cells": [
  {
   "cell_type": "code",
   "execution_count": 1,
   "metadata": {},
   "outputs": [
    {
     "name": "stdout",
     "output_type": "stream",
     "text": [
      "Populating the interactive namespace from numpy and matplotlib\n"
     ]
    }
   ],
   "source": [
    "%pylab inline\n",
    "from jk_utils import *\n",
    "from astropy.cosmology import Planck15 \n",
    "import astropy.units as u\n",
    "import seaborn as sns\n",
    "import colorsys\n",
    "import matplotlib.colors as mc\n",
    "from scipy.optimize import minimize\n",
    "\n",
    "colors=sns.color_palette()\n",
    "markers=['o','^','>','<','v','s']"
   ]
  },
  {
   "cell_type": "code",
   "execution_count": 2,
   "metadata": {},
   "outputs": [],
   "source": [
    "import seaborn as sns\n",
    "import colorsys\n",
    "import matplotlib.colors as mc"
   ]
  },
  {
   "cell_type": "code",
   "execution_count": 3,
   "metadata": {},
   "outputs": [],
   "source": [
    "fig_home='./figures/'\n",
    "fig_format='pdf'"
   ]
  },
  {
   "cell_type": "code",
   "execution_count": 4,
   "metadata": {},
   "outputs": [],
   "source": [
    "labels={}\n",
    "labels['ia']='$w_{g+}$ [Mpc/h]'\n",
    "labels['gg']='$w_{gg}$ [Mpc/h]'\n",
    "\n"
   ]
  },
  {
   "cell_type": "code",
   "execution_count": 31,
   "metadata": {},
   "outputs": [],
   "source": [
    "njk=100"
   ]
  },
  {
   "cell_type": "code",
   "execution_count": 53,
   "metadata": {},
   "outputs": [],
   "source": [
    "def write_dat_nojk(home='',dataset='',njk=0,out_name=''):\n",
    "    data_jk=jk_read(home=home,dataset=dataset,njk=njk)\n",
    "    \n",
    "    cov_gp,corr_gp=cc.dict_cov(dic=data_jk,var='6e',stack=1,ignore_keys=['data','data0'])\n",
    "    cov_gp*=(njk-1.)*(njk-1.)/njk\n",
    "    \n",
    "    \n",
    "    cov_gg,corr_gg=cc.dict_cov(dic=data_jk,var='4W',stack=1,ignore_keys=['data','data0'])\n",
    "    cov_gg*=(njk-1.)*(njk-1.)/njk\n",
    "    \n",
    "    data_jk['cov_gp']=cov_gp\n",
    "    data_jk['corr_gp']=corr_gp\n",
    "    data_jk['cov_gg']=cov_gg\n",
    "    data_jk['corr_gg']=corr_gg\n",
    "    \n",
    "    cols=['1bin_value','4W','5W_err','6e','7e_err', '10e', '11e_err']\n",
    "    dat_out=np.array([data_jk['data'][c] for c in cols]).T\n",
    "    print(dat_out.shape)\n",
    "    s='rp wgg wgg_err wgp wgp_err wpp wpp_err'\n",
    "    np.savetxt(out_name+'.dat',dat_out,header=s,fmt='%.5e')\n",
    "    \n",
    "    np.savetxt(out_name+'_wgg.cov',data_jk['cov_gg'],fmt='%.5e')\n",
    "    np.savetxt(out_name+'_wgp.cov',data_jk['cov_gp'],fmt='%.5e')\n",
    "    return data_jk"
   ]
  },
  {
   "cell_type": "code",
   "execution_count": 54,
   "metadata": {},
   "outputs": [],
   "source": [
    "CI={}\n",
    "LI={}"
   ]
  },
  {
   "cell_type": "code",
   "execution_count": null,
   "metadata": {},
   "outputs": [],
   "source": []
  },
  {
   "cell_type": "code",
   "execution_count": 55,
   "metadata": {},
   "outputs": [
    {
     "name": "stdout",
     "output_type": "stream",
     "text": [
      "(23, 7)\n",
      "(23, 7)\n",
      "(23, 7)\n",
      "(23, 7)\n",
      "(23, 7)\n",
      "(23, 7)\n",
      "(23, 7)\n",
      "(23, 7)\n",
      "(23, 7)\n",
      "(23, 7)\n"
     ]
    }
   ],
   "source": [
    "out_home='./data_out/singh_2020/cmass/'\n",
    "\n",
    "hm='./data_out/singh_2020/cmass_jk/color_ia/coor_data_out/'\n",
    "fns=['color{i}full_wt02_Rwt0_ia'.format(i=j+1) for j in np.arange(5)]\n",
    "out_names=['C{i}_cmass'.format(i=j+1) for j in np.arange(5)]\n",
    "for j in np.arange(5):\n",
    "    fn=fns[j]\n",
    "    CI[fn]=write_dat_nojk(home=hm,dataset=fns[j],njk=njk,out_name=out_home+out_names[j])\n",
    "    \n",
    "    \n",
    "hm='./data_out/singh_2020/cmass_jk/lum_ia/coor_data_out/'\n",
    "fns=['lum{i}full_wt02_Rwt0_ia'.format(i=j+1) for j in np.arange(4)]\n",
    "out_names=['L{i}_cmass'.format(i=j+1) for j in np.arange(4)]\n",
    "for j in np.arange(4):\n",
    "    fn=fns[j]\n",
    "    CI[fn]=write_dat_nojk(home=hm,dataset=fns[j],njk=njk,out_name=out_home+out_names[j])\n",
    "    \n",
    "hm='./data_out/singh_2020/cmass_jk/full_ia/coor_data_out/'\n",
    "fns=['fullfull_wt02_Rwt3_ia']\n",
    "out_names=['cmass']\n",
    "for j in np.arange(1):\n",
    "    fn=fns[j]\n",
    "    CI[fn]=write_dat_nojk(home=hm,dataset=fns[j],njk=njk,out_name=out_home+out_names[j])"
   ]
  },
  {
   "cell_type": "code",
   "execution_count": 56,
   "metadata": {},
   "outputs": [
    {
     "name": "stdout",
     "output_type": "stream",
     "text": [
      "(23, 7)\n",
      "(23, 7)\n",
      "(23, 7)\n",
      "(23, 7)\n",
      "(23, 7)\n",
      "(23, 7)\n",
      "(23, 7)\n",
      "(23, 7)\n",
      "(23, 7)\n",
      "(23, 7)\n",
      "(23, 7)\n",
      "(23, 7)\n",
      "(23, 7)\n"
     ]
    }
   ],
   "source": [
    "out_home='./data_out/singh_2020/lowz/'\n",
    "\n",
    "hm='./data_out/singh_2020/lowz_jk/color_ia/coor_data_out/'\n",
    "fns=['color{i}full_wt02_Rwt0_ia'.format(i=j+1) for j in np.arange(5)]\n",
    "out_names=['C{i}_lowz'.format(i=j+1) for j in np.arange(5)]\n",
    "for j in np.arange(5):\n",
    "    fn=fns[j]\n",
    "    LI[fn]=write_dat_nojk(home=hm,dataset=fns[j],njk=njk,out_name=out_home+out_names[j])\n",
    "    \n",
    "    \n",
    "hm='./data_out/singh_2020/lowz_jk/lum_ia/coor_data_out/'\n",
    "fns=['lum{i}full_wt02_Rwt0_ia'.format(i=j+1) for j in np.arange(4)]\n",
    "out_names=['L{i}_lowz'.format(i=j+1) for j in np.arange(4)]\n",
    "for j in np.arange(4):\n",
    "    fn=fns[j]\n",
    "    LI[fn]=write_dat_nojk(home=hm,dataset=fns[j],njk=njk,out_name=out_home+out_names[j])\n",
    "    \n",
    "hm='./data_out/singh_2020/lowz_jk/full_ia/coor_data_out/'\n",
    "fns=['fullfull_wt02_Rwt3_ia']\n",
    "out_names=['lowz']\n",
    "for j in np.arange(1):\n",
    "    fn=fns[j]\n",
    "    LI[fn]=write_dat_nojk(home=hm,dataset=fns[j],njk=njk,out_name=out_home+out_names[j])\n",
    "    \n",
    "hm='./data_out/singh_2020/lowz_jk/field_ia/coor_data_out/'\n",
    "fns=['fieldfull_wt02_Rwt3_ia']\n",
    "out_names=['Field_lowz']\n",
    "for j in np.arange(1):\n",
    "    fn=fns[j]\n",
    "    LI[fn]=write_dat_nojk(home=hm,dataset=fns[j],njk=njk,out_name=out_home+out_names[j])\n",
    "    \n",
    "hm='./data_out/singh_2020/lowz_jk/bcg_ia/coor_data_out/'\n",
    "fns=['bcgfull_wt02_Rwt3_ia']\n",
    "out_names=['BCG_lowz']\n",
    "for j in np.arange(1):\n",
    "    fn=fns[j]\n",
    "    LI[fn]=write_dat_nojk(home=hm,dataset=fns[j],njk=njk,out_name=out_home+out_names[j])\n",
    "    \n",
    "hm='./data_out/singh_2020/lowz_jk/sat_ia/coor_data_out/'\n",
    "fns=['satfull_wt02_Rwt3_ia']\n",
    "out_names=['Sat_lowz']\n",
    "for j in np.arange(1):\n",
    "    fn=fns[j]\n",
    "    LI[fn]=write_dat_nojk(home=hm,dataset=fns[j],njk=njk,out_name=out_home+out_names[j])"
   ]
  },
  {
   "cell_type": "code",
   "execution_count": null,
   "metadata": {},
   "outputs": [],
   "source": []
  }
 ],
 "metadata": {
  "kernelspec": {
   "display_name": "Python 3",
   "language": "python",
   "name": "python3"
  },
  "language_info": {
   "codemirror_mode": {
    "name": "ipython",
    "version": 3
   },
   "file_extension": ".py",
   "mimetype": "text/x-python",
   "name": "python",
   "nbconvert_exporter": "python",
   "pygments_lexer": "ipython3",
   "version": "3.8.2"
  }
 },
 "nbformat": 4,
 "nbformat_minor": 2
}
