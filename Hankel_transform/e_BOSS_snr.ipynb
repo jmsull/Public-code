{
 "cells": [
  {
   "cell_type": "code",
   "execution_count": 1,
   "metadata": {},
   "outputs": [],
   "source": [
    "import camb\n",
    "pars = camb.CAMBparams()\n",
    "from scipy.special import jn, jn_zeros\n",
    "from camb import model, initialpower\n",
    "from scipy.interpolate import interp1d\n",
    "from hankel_transform import *\n",
    "import matplotlib.pyplot as plt\n",
    "import matplotlib\n",
    "#from nbodykit.cosmology import Planck15\n",
    "from astropy.cosmology import Planck15 #watch units...\n",
    "import pickle\n",
    "from power_spectra import *"
   ]
  },
  {
   "cell_type": "markdown",
   "metadata": {},
   "source": [
    "## Setup for Sukhdeep's code"
   ]
  },
  {
   "cell_type": "code",
   "execution_count": 2,
   "metadata": {},
   "outputs": [],
   "source": [
    "def get_camb(zlist,kmin=.8e-3,kmax=30,):\n",
    "    #Set up a new set of parameters for CAMB\n",
    "    k_smooth=1\n",
    "    nk=5000\n",
    "    non_linear=1\n",
    "\n",
    "    #assuming these are right\n",
    "    pars = camb.CAMBparams()\n",
    "    #This function sets up CosmoMC-like settings, with one massive neutrino and helium set using BBN consistency\n",
    "    pars.set_cosmology(H0=67.7, ombh2=0.022250, omch2=0.119800, mnu=0.06, omk=0, tau=0.06)\n",
    "    pars.InitPower.set_params(ns=0.965, r=0,As =2.14e-09)\n",
    "    pars.set_for_lmax(2500, lens_potential_accuracy=0)\n",
    "    zb=zlist\n",
    "    pars.set_matter_power(redshifts=zb,kmax=kmax);\n",
    "    if non_linear==1:\n",
    "        pars.NonLinear = model.NonLinear_both\n",
    "    else:\n",
    "        pars.NonLinear = model.NonLinear_none\n",
    "    results = camb.get_results(pars)\n",
    "    kh, z, pk =results.get_matter_power_spectrum(minkh=kmin, maxkh=kmax, npoints =nk)\n",
    "\n",
    "    return (kh,z,pk)"
   ]
  },
  {
   "cell_type": "code",
   "execution_count": 3,
   "metadata": {
    "scrolled": true
   },
   "outputs": [
    {
     "name": "stdout",
     "output_type": "stream",
     "text": [
      "nr: 1047\n",
      "CPU times: user 18 s, sys: 482 ms, total: 18.5 s\n",
      "Wall time: 19 s\n"
     ]
    }
   ],
   "source": [
    "#Set up Hankel Transform\n",
    "#If you only need wgg, set j_nu=[0].\n",
    "rmin=.6\n",
    "rmax=110\n",
    "kmax=30\n",
    "kmin=.8e-3\n",
    "%time HT=hankel_transform(rmin=rmin,rmax=rmax,kmax=kmax,j_nu=[0],n_zeros=60000,kmin=kmin)\n",
    "taper_kw=dict({'large_k_lower':10,'large_k_upper':kmax,'low_k_lower':kmin,'low_k_upper':kmin*1.2})"
   ]
  },
  {
   "cell_type": "code",
   "execution_count": 4,
   "metadata": {},
   "outputs": [],
   "source": [
    "r_bins=np.logspace(np.log10(5),np.log10(110),24) \n",
    "# ^ remember we want to stop at 5 before hitting data\n",
    "#^Though this doesn't account for cross-covariance between small and large scales? \n",
    "#presumably jackknife \"knows\" about this?"
   ]
  },
  {
   "cell_type": "markdown",
   "metadata": {},
   "source": [
    "## 0. Preliminary run"
   ]
  },
  {
   "cell_type": "code",
   "execution_count": 135,
   "metadata": {},
   "outputs": [
    {
     "name": "stdout",
     "output_type": "stream",
     "text": [
      "Note: redshifts have been re-sorted (earliest first)\n"
     ]
    }
   ],
   "source": [
    "#main\n",
    "#input data\n",
    "names = ['lowz','cmass','lrg','elg','qso']\n",
    "propnames = ['zeff','Ng','Area','depth','pk']\n",
    "data = np.array([[.27,.63,.8,.85,.95],[45671,74186,24404,89967,7759],[860,860,700,620,700]])\n",
    "z_edges = [[0.,.5],[.35,.8],[.6,1.],[.6,1.1],[.8,1.1]] #straight from table, maybe not the most realistic\n",
    "depths = [Planck15.comoving_distance(z[1]).value*Planck15.h #convert to Mpc/h\n",
    "                   - Planck15.comoving_distance(z[0]).value*Planck15.h \n",
    "                   for z in z_edges]\n",
    "#compute CAMB once\n",
    "kh,_,pks = get_camb(data[0])\n",
    "props = [dict(zip(propnames,list(np.concatenate([data[:,i],np.atleast_1d(depths[i])],axis=0))+[pks[i]] )) for i in range(5)]\n",
    "sdict = dict(zip(names,props))\n",
    "\n",
    "PS = Power_Spectra(cosmo_h=0.677) #assuming Planck15's agree\n",
    "Dchi2_gg = 200 #??? #LOS integration length in the estimator."
   ]
  },
  {
   "cell_type": "code",
   "execution_count": 136,
   "metadata": {},
   "outputs": [
    {
     "data": {
      "text/plain": [
       "{'lowz': {'zeff': 0.27,\n",
       "  'Ng': 45671.0,\n",
       "  'Area': 860.0,\n",
       "  'depth': 1317.9232225273754,\n",
       "  'pk': array([2.41539290e+03, 2.42018959e+03, 2.42499541e+03, ...,\n",
       "         5.62995788e-01, 5.60238431e-01, 5.57494089e-01])},\n",
       " 'cmass': {'zeff': 0.63,\n",
       "  'Ng': 74186.0,\n",
       "  'Area': 860.0,\n",
       "  'depth': 981.8146241626717,\n",
       "  'pk': array([1.67309651e+03, 1.67641989e+03, 1.67974959e+03, ...,\n",
       "         3.31475451e-01, 3.29844697e-01, 3.28221687e-01])},\n",
       " 'lrg': {'zeff': 0.8,\n",
       "  'Ng': 24404.0,\n",
       "  'Area': 700.0,\n",
       "  'depth': 761.5328241925426,\n",
       "  'pk': array([1.42224415e+03, 1.42506962e+03, 1.42790047e+03, ...,\n",
       "         2.69852545e-01, 2.68525442e-01, 2.67204637e-01])},\n",
       " 'elg': {'zeff': 0.85,\n",
       "  'Ng': 89967.0,\n",
       "  'Area': 620.0,\n",
       "  'depth': 925.2666276812847,\n",
       "  'pk': array([1.35797728e+03, 1.36067518e+03, 1.36337821e+03, ...,\n",
       "         2.55018194e-01, 2.53764375e-01, 2.52516504e-01])},\n",
       " 'qso': {'zeff': 0.95,\n",
       "  'Ng': 7759.0,\n",
       "  'Area': 700.0,\n",
       "  'depth': 521.6214500489964,\n",
       "  'pk': array([1.24066443e+03, 1.24312946e+03, 1.24559918e+03, ...,\n",
       "         2.28813320e-01, 2.27689242e-01, 2.26570492e-01])}}"
      ]
     },
     "execution_count": 136,
     "metadata": {},
     "output_type": "execute_result"
    }
   ],
   "source": [
    "sdict"
   ]
  },
  {
   "cell_type": "code",
   "execution_count": 154,
   "metadata": {},
   "outputs": [],
   "source": [
    "#run the code\n",
    "def run_snr(area=None,name=None,cross=None):\n",
    "    for i_s,sname in enumerate(sdict):\n",
    "        \n",
    "        sample = sdict[sname]\n",
    "        #compute effective volume\n",
    "        if(area is None): \n",
    "            area = sample['Area']\n",
    "            \n",
    "        area_comoving=area*(np.pi/180)**2*(Planck15.comoving_distance(sample['zeff']).value*Planck15.h)**2\n",
    "        vol=area_comoving*(sample['depth']/2) #not sure what this factor should be but 2 is close to 500 for lowz\n",
    "        if(name is None):\n",
    "            n_g=sample['Ng']/vol\n",
    "        else:\n",
    "            n_g=sample['Ng_'+name]/vol\n",
    "        g_shot_noise=1./n_g\n",
    "        sample['sn'] = g_shot_noise\n",
    "        bzeff = 1.75/PS.DZ_int([sample['zeff']]) #simple bias as recommended ~2\n",
    "        p_g=bzeff**2 * sample['pk']\n",
    "\n",
    "        #compute wgg\n",
    "        r_gg,wgg=HT.projected_correlation(k_pk=kh,pk=p_g,j_nu=0)\n",
    "        wgg_re =  np.interp((r_bins[1:]+r_bins[:-1])/2,r_gg,wgg)#\"binned\" wgg\n",
    "\n",
    "        #compute gg covariance\n",
    "        if(cross is not None): \n",
    "            #this is gross but it works\n",
    "            cross_sample = sdict[cross]\n",
    "            \n",
    "            #use smaller of the two areas and use width corresponding to smaller effective redshift\n",
    "            #not sure if this actually matters\n",
    "            if(area is None): area = min(sample['Area'],cross_sample['Area'])\n",
    "            comoving_width = min((Planck15.comoving_distance(sample['zeff']).value*Planck15.h)**2,\n",
    "                                 (Planck15.comoving_distance(cross_sample['zeff']).value*Planck15.h)**2)\n",
    "            area_comoving=area*(np.pi/180)**2*comoving_width\n",
    "            \n",
    "            vol2=area_comoving*(min(sample['depth'],cross_sample['depth'])/2) #not sure what this factor should be but 2 is close to 500 for lowz\n",
    "            if(name is None): n_g2=sample['Ng']/vol2\n",
    "            else: n_g2=sample['Ng_'+name]/vol\n",
    "            g_shot_noise2=1./n_g2\n",
    "            bzeff2 = 1.75/PS.DZ_int([cross_sample['zeff']])\n",
    "            p_g2 = bzeff2**2 * cross_sample['pk']\n",
    "            r,cov_gggg=HT.projected_covariance(k_pk=kh,pk1=p_g+g_shot_noise,pk2=p_g2+g_shot_noise2,j_nu=0,taper=True,**taper_kw)\n",
    "        else:\n",
    "            r,cov_gggg=HT.projected_covariance(k_pk=kh,pk1=p_g+g_shot_noise,pk2=p_g+g_shot_noise,j_nu=0,taper=True,**taper_kw)\n",
    "        r_re,cov_gggg_re=HT.bin_cov(r=r,cov=cov_gggg,r_bins=r_bins)\n",
    "        \n",
    "        #\\/ Is this right for cross? so long as we use overlap?\n",
    "        cov_final_gg=cov_gggg_re*2./vol*Dchi2_gg #2 because there are 2 terms in the covariance, which are equal when galaxy sample is same.\n",
    "        corr=HT.corr_matrix(cov=cov_final_gg)\n",
    "\n",
    "        #compute SNR for the sample\n",
    "        res = np.sqrt(wgg_re@np.linalg.inv(cov_final_gg)@wgg_re)\n",
    "        if(name is None and cross is None): sample['snr'] = res\n",
    "        elif(name is not None and cross is None): sample['snr_'+name] = res\n",
    "        else: sample['snr_cross_'+cross]= res\n",
    "            \n",
    "            \n",
    "    return None\n",
    "run_snr()"
   ]
  },
  {
   "cell_type": "code",
   "execution_count": 151,
   "metadata": {},
   "outputs": [
    {
     "data": {
      "text/plain": [
       "{'lowz': {'zeff': 0.27,\n",
       "  'Ng': 45671.0,\n",
       "  'Area': 860.0,\n",
       "  'depth': 1317.9232225273754,\n",
       "  'pk': array([2.41539290e+03, 2.42018959e+03, 2.42499541e+03, ...,\n",
       "         5.62995788e-01, 5.60238431e-01, 5.57494089e-01]),\n",
       "  'sn': 2165.6772550291025,\n",
       "  'snr': 20.08242170014838,\n",
       "  'Ng_full_boss': 424846.511627907,\n",
       "  'snr_full_boss': 61.25081196178207,\n",
       "  'snr_cross_rm': 28.975828327917675},\n",
       " 'cmass': {'zeff': 0.63,\n",
       "  'Ng': 74186.0,\n",
       "  'Area': 860.0,\n",
       "  'depth': 981.8146241626717,\n",
       "  'pk': array([1.67309651e+03, 1.67641989e+03, 1.67974959e+03, ...,\n",
       "         3.31475451e-01, 3.29844697e-01, 3.28221687e-01]),\n",
       "  'sn': 4452.071766905112,\n",
       "  'snr': 26.040034520570057,\n",
       "  'Ng_full_boss': 690102.3255813955,\n",
       "  'snr_full_boss': 79.42136071597213,\n",
       "  'snr_cross_rm': 22.68927950251981},\n",
       " 'lrg': {'zeff': 0.8,\n",
       "  'Ng': 24404.0,\n",
       "  'Area': 700.0,\n",
       "  'depth': 761.5328241925426,\n",
       "  'pk': array([1.42224415e+03, 1.42506962e+03, 1.42790047e+03, ...,\n",
       "         2.69852545e-01, 2.68525442e-01, 2.67204637e-01]),\n",
       "  'sn': 15423.1210686697,\n",
       "  'snr': 13.862174874142339,\n",
       "  'Ng_full_boss': 227013.95348837215,\n",
       "  'snr_full_boss': 42.279237000145216,\n",
       "  'snr_cross_rm': 11.692455825980883},\n",
       " 'elg': {'zeff': 0.85,\n",
       "  'Ng': 89967.0,\n",
       "  'Area': 620.0,\n",
       "  'depth': 925.2666276812847,\n",
       "  'pk': array([1.35797728e+03, 1.36067518e+03, 1.36337821e+03, ...,\n",
       "         2.55018194e-01, 2.53764375e-01, 2.52516504e-01]),\n",
       "  'sn': 5584.291709930519,\n",
       "  'snr': 26.825052764074453,\n",
       "  'Ng_full_boss': 836902.3255813956,\n",
       "  'snr_full_boss': 81.81564391236081,\n",
       "  'snr_cross_rm': 19.26858807748438},\n",
       " 'qso': {'zeff': 0.95,\n",
       "  'Ng': 7759.0,\n",
       "  'Area': 700.0,\n",
       "  'depth': 521.6214500489964,\n",
       "  'pk': array([1.24066443e+03, 1.24312946e+03, 1.24559918e+03, ...,\n",
       "         2.28813320e-01, 2.27689242e-01, 2.26570492e-01]),\n",
       "  'sn': 43198.16662820358,\n",
       "  'snr': 5.891574113970866,\n",
       "  'Ng_full_boss': 72176.74418604652,\n",
       "  'snr_full_boss': 17.96913258778278,\n",
       "  'snr_cross_rm': 5.2907226810346994},\n",
       " 'rm': {'zeff': 0.54,\n",
       "  'Area': 5000.0,\n",
       "  'Ng': 3041935,\n",
       "  'depth': 895.8385886792394,\n",
       "  'pk': array([1.82906120e+03, 1.83269415e+03, 1.83633401e+03, ...,\n",
       "         3.73273533e-01, 3.71437609e-01, 3.69610395e-01]),\n",
       "  'sn': 76.46227790573711,\n",
       "  'snr': 49.73693932230535,\n",
       "  'snr_cross_rm': 49.73693932230535}}"
      ]
     },
     "execution_count": 151,
     "metadata": {},
     "output_type": "execute_result"
    }
   ],
   "source": [
    "#peep at results\n",
    "sdict"
   ]
  },
  {
   "cell_type": "markdown",
   "metadata": {},
   "source": [
    "## 1. Total e/BOSS"
   ]
  },
  {
   "cell_type": "code",
   "execution_count": 142,
   "metadata": {},
   "outputs": [
    {
     "data": {
      "text/plain": [
       "{'lowz': {'zeff': 0.27,\n",
       "  'Ng': 45671.0,\n",
       "  'Area': 860.0,\n",
       "  'depth': 1317.9232225273754,\n",
       "  'pk': array([2.41539290e+03, 2.42018959e+03, 2.42499541e+03, ...,\n",
       "         5.62995788e-01, 5.60238431e-01, 5.57494089e-01]),\n",
       "  'sn': 2165.6772550291025,\n",
       "  'snr': 20.08242170014838,\n",
       "  'Ng_full_boss': 424846.511627907,\n",
       "  'snr_full_boss': 61.25081196178207},\n",
       " 'cmass': {'zeff': 0.63,\n",
       "  'Ng': 74186.0,\n",
       "  'Area': 860.0,\n",
       "  'depth': 981.8146241626717,\n",
       "  'pk': array([1.67309651e+03, 1.67641989e+03, 1.67974959e+03, ...,\n",
       "         3.31475451e-01, 3.29844697e-01, 3.28221687e-01]),\n",
       "  'sn': 4452.071766905112,\n",
       "  'snr': 26.040034520570057,\n",
       "  'Ng_full_boss': 690102.3255813955,\n",
       "  'snr_full_boss': 79.42136071597213},\n",
       " 'lrg': {'zeff': 0.8,\n",
       "  'Ng': 24404.0,\n",
       "  'Area': 700.0,\n",
       "  'depth': 761.5328241925426,\n",
       "  'pk': array([1.42224415e+03, 1.42506962e+03, 1.42790047e+03, ...,\n",
       "         2.69852545e-01, 2.68525442e-01, 2.67204637e-01]),\n",
       "  'sn': 15423.1210686697,\n",
       "  'snr': 13.862174874142339,\n",
       "  'Ng_full_boss': 227013.95348837215,\n",
       "  'snr_full_boss': 42.279237000145216},\n",
       " 'elg': {'zeff': 0.85,\n",
       "  'Ng': 89967.0,\n",
       "  'Area': 620.0,\n",
       "  'depth': 925.2666276812847,\n",
       "  'pk': array([1.35797728e+03, 1.36067518e+03, 1.36337821e+03, ...,\n",
       "         2.55018194e-01, 2.53764375e-01, 2.52516504e-01]),\n",
       "  'sn': 5584.291709930519,\n",
       "  'snr': 26.825052764074453,\n",
       "  'Ng_full_boss': 836902.3255813956,\n",
       "  'snr_full_boss': 81.81564391236081},\n",
       " 'qso': {'zeff': 0.95,\n",
       "  'Ng': 7759.0,\n",
       "  'Area': 700.0,\n",
       "  'depth': 521.6214500489964,\n",
       "  'pk': array([1.24066443e+03, 1.24312946e+03, 1.24559918e+03, ...,\n",
       "         2.28813320e-01, 2.27689242e-01, 2.26570492e-01]),\n",
       "  'sn': 43198.16662820358,\n",
       "  'snr': 5.891574113970866,\n",
       "  'Ng_full_boss': 72176.74418604652,\n",
       "  'snr_full_boss': 17.96913258778278}}"
      ]
     },
     "execution_count": 142,
     "metadata": {},
     "output_type": "execute_result"
    }
   ],
   "source": [
    "boss_area = 8e3 #quoting Sukhdeep, use for all\n",
    "#this is not the best way to do it but okay\n",
    "for i_s,sname in enumerate(sdict): #have to run this in order or else complains about sdict too long\n",
    "    sample = sdict[sname]\n",
    "    area_comoving=boss_area*(np.pi/180)**2*(Planck15.comoving_distance(sample['zeff']).value*Planck15.h)**2\n",
    "    vol=area_comoving*(depths[i_s]/2) #not sure what this factor should be but 2 is close to 500 for lowz \n",
    "    sample['Ng_full_boss'] =  1/(sample['sn']) * (vol)\n",
    "    \n",
    "#run everything again, just with the new area...\n",
    "run_snr(area=boss_area,name='full_boss')\n",
    "sdict"
   ]
  },
  {
   "cell_type": "markdown",
   "metadata": {},
   "source": [
    "## 2. Total redMaGiC"
   ]
  },
  {
   "cell_type": "code",
   "execution_count": 17,
   "metadata": {},
   "outputs": [
    {
     "data": {
      "text/plain": [
       "0.0011247376138338568"
      ]
     },
     "execution_count": 17,
     "metadata": {},
     "output_type": "execute_result"
    }
   ],
   "source": [
    "#0.0011247376138338568\n",
    "#clustering redshift nbar within 10% of what is quoted in the redMaGic \"fiducial sample\" of https://arxiv.org/pdf/1507.05460.pdf"
   ]
  },
  {
   "cell_type": "code",
   "execution_count": 143,
   "metadata": {},
   "outputs": [],
   "source": [
    "names.append('rm')\n",
    "rm_area  = 5e3 #full DES footprint\n",
    "rm_zrange = [0.14,0.94]\n",
    "rm_zeff = np.mean(rm_zrange)\n",
    "#area_comoving=rm_area*(np.pi/180)**2 *(Planck15.comoving_distance(rm_zeff).value*Planck15.h)**2\n",
    "rm_depth = (Planck15.comoving_distance(rm_zrange[1]).value*Planck15.h #convert to Mpc/h\n",
    "                   - Planck15.comoving_distance(rm_zrange[0]).value*Planck15.h) /2 #factor of 2 again...\n",
    "#vol_comoving = rm_depth*area_comoving\n",
    "rm_Ng =  3041935 #quoted in clustering redshifts paper 3.3\n",
    "# n_g=rm_Ng/vol_comoving\n",
    "# g_shot_noise=1./n_g\n",
    "# p_g=(1.75/PS.DZ_int([rm_zeff]))**2 * pks[i_s]\n",
    "rm_pk = np.squeeze(get_camb([rm_zeff])[2])"
   ]
  },
  {
   "cell_type": "code",
   "execution_count": 144,
   "metadata": {},
   "outputs": [],
   "source": [
    "#add to dictionary\n",
    "sdict['rm'] = {'zeff':rm_zeff, 'Area':rm_area, \"Ng\":rm_Ng,'depth':rm_depth,'pk':rm_pk}"
   ]
  },
  {
   "cell_type": "code",
   "execution_count": 145,
   "metadata": {},
   "outputs": [],
   "source": [
    "run_snr()"
   ]
  },
  {
   "cell_type": "code",
   "execution_count": 146,
   "metadata": {},
   "outputs": [
    {
     "data": {
      "text/plain": [
       "{'zeff': 0.54,\n",
       " 'Area': 5000.0,\n",
       " 'Ng': 3041935,\n",
       " 'depth': 895.8385886792394,\n",
       " 'pk': array([1.82906120e+03, 1.83269415e+03, 1.83633401e+03, ...,\n",
       "        3.73273533e-01, 3.71437609e-01, 3.69610395e-01]),\n",
       " 'sn': 76.46227790573711,\n",
       " 'snr': 49.73693932230535}"
      ]
     },
     "execution_count": 146,
     "metadata": {},
     "output_type": "execute_result"
    }
   ],
   "source": [
    "sdict['rm']"
   ]
  },
  {
   "cell_type": "markdown",
   "metadata": {},
   "source": [
    "## 3. e/BOSS x redMaGiC"
   ]
  },
  {
   "cell_type": "code",
   "execution_count": 155,
   "metadata": {},
   "outputs": [],
   "source": [
    "run_snr(cross='rm')"
   ]
  },
  {
   "cell_type": "code",
   "execution_count": 156,
   "metadata": {},
   "outputs": [
    {
     "data": {
      "text/plain": [
       "{'lowz': {'zeff': 0.27,\n",
       "  'Ng': 45671.0,\n",
       "  'Area': 860.0,\n",
       "  'depth': 1317.9232225273754,\n",
       "  'pk': array([2.41539290e+03, 2.42018959e+03, 2.42499541e+03, ...,\n",
       "         5.62995788e-01, 5.60238431e-01, 5.57494089e-01]),\n",
       "  'sn': 2165.6772550291025,\n",
       "  'snr': 20.08242170014838,\n",
       "  'Ng_full_boss': 424846.511627907,\n",
       "  'snr_full_boss': 61.25081196178207,\n",
       "  'snr_cross_rm': 23.519966590209652},\n",
       " 'cmass': {'zeff': 0.63,\n",
       "  'Ng': 74186.0,\n",
       "  'Area': 860.0,\n",
       "  'depth': 981.8146241626717,\n",
       "  'pk': array([1.67309651e+03, 1.67641989e+03, 1.67974959e+03, ...,\n",
       "         3.31475451e-01, 3.29844697e-01, 3.28221687e-01]),\n",
       "  'sn': 4452.071766905112,\n",
       "  'snr': 26.040034520570057,\n",
       "  'Ng_full_boss': 690102.3255813955,\n",
       "  'snr_full_boss': 79.42136071597213,\n",
       "  'snr_cross_rm': 27.03735354649339},\n",
       " 'lrg': {'zeff': 0.8,\n",
       "  'Ng': 24404.0,\n",
       "  'Area': 700.0,\n",
       "  'depth': 761.5328241925426,\n",
       "  'pk': array([1.42224415e+03, 1.42506962e+03, 1.42790047e+03, ...,\n",
       "         2.69852545e-01, 2.68525442e-01, 2.67204637e-01]),\n",
       "  'sn': 15423.1210686697,\n",
       "  'snr': 13.862174874142339,\n",
       "  'Ng_full_boss': 227013.95348837215,\n",
       "  'snr_full_boss': 42.279237000145216,\n",
       "  'snr_cross_rm': 15.438021309078607},\n",
       " 'elg': {'zeff': 0.85,\n",
       "  'Ng': 89967.0,\n",
       "  'Area': 620.0,\n",
       "  'depth': 925.2666276812847,\n",
       "  'pk': array([1.35797728e+03, 1.36067518e+03, 1.36337821e+03, ...,\n",
       "         2.55018194e-01, 2.53764375e-01, 2.52516504e-01]),\n",
       "  'sn': 5584.291709930519,\n",
       "  'snr': 26.825052764074453,\n",
       "  'Ng_full_boss': 836902.3255813956,\n",
       "  'snr_full_boss': 81.81564391236081,\n",
       "  'snr_cross_rm': 28.318939090894858},\n",
       " 'qso': {'zeff': 0.95,\n",
       "  'Ng': 7759.0,\n",
       "  'Area': 700.0,\n",
       "  'depth': 521.6214500489964,\n",
       "  'pk': array([1.24066443e+03, 1.24312946e+03, 1.24559918e+03, ...,\n",
       "         2.28813320e-01, 2.27689242e-01, 2.26570492e-01]),\n",
       "  'sn': 43198.16662820358,\n",
       "  'snr': 5.891574113970866,\n",
       "  'Ng_full_boss': 72176.74418604652,\n",
       "  'snr_full_boss': 17.96913258778278,\n",
       "  'snr_cross_rm': 7.4708719305526925},\n",
       " 'rm': {'zeff': 0.54,\n",
       "  'Area': 5000.0,\n",
       "  'Ng': 3041935,\n",
       "  'depth': 895.8385886792394,\n",
       "  'pk': array([1.82906120e+03, 1.83269415e+03, 1.83633401e+03, ...,\n",
       "         3.73273533e-01, 3.71437609e-01, 3.69610395e-01]),\n",
       "  'sn': 76.46227790573711,\n",
       "  'snr': 49.73693932230535,\n",
       "  'snr_cross_rm': 49.73693932230535}}"
      ]
     },
     "execution_count": 156,
     "metadata": {},
     "output_type": "execute_result"
    }
   ],
   "source": [
    "#note that rm cross rm is just itself\n",
    "sdict"
   ]
  },
  {
   "cell_type": "code",
   "execution_count": null,
   "metadata": {},
   "outputs": [],
   "source": []
  }
 ],
 "metadata": {
  "kernelspec": {
   "display_name": "Python 3",
   "language": "python",
   "name": "python3"
  },
  "language_info": {
   "codemirror_mode": {
    "name": "ipython",
    "version": 3
   },
   "file_extension": ".py",
   "mimetype": "text/x-python",
   "name": "python",
   "nbconvert_exporter": "python",
   "pygments_lexer": "ipython3",
   "version": "3.7.4"
  }
 },
 "nbformat": 4,
 "nbformat_minor": 1
}
