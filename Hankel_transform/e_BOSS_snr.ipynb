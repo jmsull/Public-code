{
 "cells": [
  {
   "cell_type": "code",
   "execution_count": 4,
   "metadata": {},
   "outputs": [],
   "source": [
    "import camb\n",
    "pars = camb.CAMBparams()\n",
    "from scipy.special import jn, jn_zeros\n",
    "from camb import model, initialpower\n",
    "from scipy.interpolate import interp1d\n",
    "from hankel_transform import *\n",
    "import matplotlib.pyplot as plt\n",
    "import matplotlib\n",
    "#from nbodykit.cosmology import Planck15\n",
    "from astropy.cosmology import Planck15 #watch units...\n",
    "import pickle\n",
    "from power_spectra import *"
   ]
  },
  {
   "cell_type": "markdown",
   "metadata": {},
   "source": [
    "## Setup for Sukhdeep's code"
   ]
  },
  {
   "cell_type": "code",
   "execution_count": 12,
   "metadata": {},
   "outputs": [],
   "source": [
    "def get_camb(zlist,kmin=.8e-3,kmax=30,):\n",
    "    #Set up a new set of parameters for CAMB\n",
    "    k_smooth=1\n",
    "    nk=5000\n",
    "    non_linear=1\n",
    "\n",
    "    #assuming these are right\n",
    "    pars = camb.CAMBparams()\n",
    "    #This function sets up CosmoMC-like settings, with one massive neutrino and helium set using BBN consistency\n",
    "    pars.set_cosmology(H0=67.7, ombh2=0.022250, omch2=0.119800, mnu=0.06, omk=0, tau=0.06)\n",
    "    pars.InitPower.set_params(ns=0.965, r=0,As =2.14e-09)\n",
    "    pars.set_for_lmax(2500, lens_potential_accuracy=0)\n",
    "    zb=zlist\n",
    "    pars.set_matter_power(redshifts=zb,kmax=kmax);\n",
    "    if non_linear==1:\n",
    "        pars.NonLinear = model.NonLinear_both\n",
    "    else:\n",
    "        pars.NonLinear = model.NonLinear_none\n",
    "    results = camb.get_results(pars)\n",
    "    kh, z, pk =results.get_matter_power_spectrum(minkh=kmin, maxkh=kmax, npoints =nk)\n",
    "\n",
    "    return (kh,z,pk)"
   ]
  },
  {
   "cell_type": "code",
   "execution_count": 13,
   "metadata": {
    "scrolled": true
   },
   "outputs": [
    {
     "name": "stdout",
     "output_type": "stream",
     "text": [
      "nr: 1047\n",
      "CPU times: user 16 s, sys: 333 ms, total: 16.3 s\n",
      "Wall time: 16.4 s\n"
     ]
    }
   ],
   "source": [
    "#Set up Hankel Transform\n",
    "#If you only need wgg, set j_nu=[0].\n",
    "rmin=.6\n",
    "rmax=110\n",
    "kmax=30\n",
    "kmin=.8e-3\n",
    "%time HT=hankel_transform(rmin=rmin,rmax=rmax,kmax=kmax,j_nu=[0],n_zeros=60000,kmin=kmin)\n",
    "taper_kw=dict({'large_k_lower':10,'large_k_upper':kmax,'low_k_lower':kmin,'low_k_upper':kmin*1.2})"
   ]
  },
  {
   "cell_type": "code",
   "execution_count": 16,
   "metadata": {},
   "outputs": [],
   "source": [
    "r_bins=np.logspace(np.log10(5),np.log10(110),24) \n",
    "# ^ remember we want to stop at 5 before hitting data\n",
    "#^Though this doesn't account for cross-covariance between small and large scales? \n",
    "#presumably jackknife \"knows\" about this?"
   ]
  },
  {
   "cell_type": "markdown",
   "metadata": {},
   "source": [
    "## Run it run it"
   ]
  },
  {
   "cell_type": "code",
   "execution_count": 17,
   "metadata": {},
   "outputs": [
    {
     "name": "stdout",
     "output_type": "stream",
     "text": [
      "Note: redshifts have been re-sorted (earliest first)\n",
      "lowz\n",
      "0 {'zeff': 0.27, 'Ng': 45671.0, 'Area': 860.0}\n",
      "cmass\n",
      "1 {'zeff': 0.63, 'Ng': 74186.0, 'Area': 860.0}\n",
      "lrg\n",
      "2 {'zeff': 0.8, 'Ng': 24404.0, 'Area': 700.0}\n",
      "elg\n",
      "3 {'zeff': 0.85, 'Ng': 89967.0, 'Area': 620.0}\n",
      "qso\n",
      "4 {'zeff': 0.95, 'Ng': 7759.0, 'Area': 700.0}\n"
     ]
    }
   ],
   "source": [
    "#main\n",
    "#input data\n",
    "names = ['lowz','cmass','lrg','elg','qso']\n",
    "propnames = ['zeff','Ng','Area']\n",
    "data = np.array([[.27,.63,.8,.85,.95],[45671,74186,24404,89967,7759],[860,860,700,620,700]])\n",
    "z_edges = [[0.,.5],[.35,.8],[.6,1.],[.6,1.1],[.8,1.1]] #straight from table, maybe not the most realistic\n",
    "props = [dict(zip(propnames,data[:,i])) for i in range(5)]\n",
    "sdict = dict(zip(names,props))\n",
    "#derived quantities\n",
    "#depths = np.array([Planck15.comoving_distance(z[1])-Planck15.comoving_distance(z[0]) for z in z_edges]) #nbk\n",
    "depths = np.array([Planck15.comoving_distance(z[1]).value*Planck15.h #convert to Mpc/h\n",
    "                   - Planck15.comoving_distance(z[0]).value*Planck15.h \n",
    "                   for z in z_edges]) \n",
    "PS = Power_Spectra(cosmo_h=0.677) #assuming Planck15's agree\n",
    "bzeff = 1.75/PS.DZ_int(data[0]) #simple bias as recommended ~2\n",
    "Dchi2_gg = 200 #??? #LOS integration length in the estimator.\n",
    "\n",
    "\n",
    "#compute CAMB once\n",
    "kh,_,pks = get_camb(data[0])\n",
    "\n",
    "for i_s,sname in enumerate(sdict):\n",
    "    #i_s,sample = 0,sdict['lowz']\n",
    "    print(sname)\n",
    "    sample = sdict[sname]\n",
    "    print(i_s,sample)\n",
    "    #compute effective volume\n",
    "    area_comoving=sample['Area']*(np.pi/180)**2*(Planck15.comoving_distance(sample['zeff']).value*Planck15.h)**2\n",
    "    vol=area_comoving*(depths[i_s]/2) #not sure what this factor should be but 2 is close to 500 for lowz\n",
    "    n_g=sample['Ng']/vol\n",
    "    g_shot_noise=1./n_g\n",
    "    p_g=bzeff[i_s]**2 * pks[i_s]\n",
    "\n",
    "    #compute wgg\n",
    "    r_gg,wgg=HT.projected_correlation(k_pk=kh,pk=p_g,j_nu=0)\n",
    "    wgg_re =  np.interp((r_bins[1:]+r_bins[:-1])/2,r_gg,wgg)#\"binned\" wgg\n",
    "\n",
    "    #compute gg covariance\n",
    "    r,cov_gggg=HT.projected_covariance(k_pk=kh,pk1=p_g+g_shot_noise,pk2=p_g+g_shot_noise,j_nu=0,taper=True,**taper_kw)\n",
    "    r_re,cov_gggg_re=HT.bin_cov(r=r,cov=cov_gggg,r_bins=r_bins)\n",
    "    cov_final_gg=cov_gggg_re*2./vol*Dchi2_gg #2 because there are 2 terms in the covariance, which are equal when galaxy sample is same.\n",
    "    corr=HT.corr_matrix(cov=cov_final_gg)\n",
    "\n",
    "    #compute SNR for the sample\n",
    "    res = np.sqrt(wgg_re@cov_final_gg@wgg_re)\n",
    "    sample['snr'] = res"
   ]
  },
  {
   "cell_type": "code",
   "execution_count": 18,
   "metadata": {},
   "outputs": [
    {
     "data": {
      "text/plain": [
       "{'lowz': {'zeff': 0.27,\n",
       "  'Ng': 45671.0,\n",
       "  'Area': 860.0,\n",
       "  'snr': 421.43815290119954},\n",
       " 'cmass': {'zeff': 0.63,\n",
       "  'Ng': 74186.0,\n",
       "  'Area': 860.0,\n",
       "  'snr': 258.27395359199494},\n",
       " 'lrg': {'zeff': 0.8, 'Ng': 24404.0, 'Area': 700.0, 'snr': 365.2130245967086},\n",
       " 'elg': {'zeff': 0.85, 'Ng': 89967.0, 'Area': 620.0, 'snr': 244.485678666876},\n",
       " 'qso': {'zeff': 0.95, 'Ng': 7759.0, 'Area': 700.0, 'snr': 711.4291956548494}}"
      ]
     },
     "execution_count": 18,
     "metadata": {},
     "output_type": "execute_result"
    }
   ],
   "source": [
    "#peep results\n",
    "sdict"
   ]
  },
  {
   "cell_type": "code",
   "execution_count": 19,
   "metadata": {},
   "outputs": [
    {
     "data": {
      "image/png": "[encoded data removed]",
      "text/plain": [
       "<Figure size 432x288 with 2 Axes>"
      ]
     },
     "metadata": {
      "needs_background": "light"
     },
     "output_type": "display_data"
    }
   ],
   "source": [
    "#look at a covariance matrix (last one) - I have only the crudest of ability to tell if right though...\n",
    "plt.pcolor(r_re,r_re,corr,norm=matplotlib.colors.LogNorm())\n",
    "plt.colorbar()\n",
    "plt.xscale('log')\n",
    "plt.yscale('log')\n",
    "# plt.xlim(HT.rmin,HT.rmax)\n",
    "# plt.ylim(HT.rmin,HT.rmax)"
   ]
  },
  {
   "cell_type": "code",
   "execution_count": null,
   "metadata": {},
   "outputs": [],
   "source": []
  }
 ],
 "metadata": {
  "kernelspec": {
   "display_name": "Python 3",
   "language": "python",
   "name": "python3"
  },
  "language_info": {
   "codemirror_mode": {
    "name": "ipython",
    "version": 3
   },
   "file_extension": ".py",
   "mimetype": "text/x-python",
   "name": "python",
   "nbconvert_exporter": "python",
   "pygments_lexer": "ipython3",
   "version": "3.7.4"
  }
 },
 "nbformat": 4,
 "nbformat_minor": 1
}
