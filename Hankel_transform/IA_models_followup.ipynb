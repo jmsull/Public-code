{
 "cells": [
  {
   "cell_type": "markdown",
   "metadata": {},
   "source": [
    "Notebook used to estimate signal to noise for an IA measurement with spectrosopci follow-up observations for LSST.\n",
    "Notebook and underlying code by Sukhdeep Singh. Some modifications for LSST follow-up forecasting by Jonathan Blazek."
   ]
  },
  {
   "cell_type": "code",
   "execution_count": 8,
   "metadata": {},
   "outputs": [],
   "source": [
    "from power_spectra import *\n",
    "from scipy.special import jn, jn_zeros\n",
    "from scipy.interpolate import interp1d\n",
    "from hankel_transform import *\n",
    "from astropy.cosmology import Planck13 #use Planck15 if you can\n",
    "import astropy.units as u\n",
    "#rc('text', usetex=False)\n",
    "import scipy\n",
    "from scipy.interpolate import interp1d"
   ]
  },
  {
   "cell_type": "code",
   "execution_count": 9,
   "metadata": {},
   "outputs": [],
   "source": [
    "cosmo=Planck13.clone(H0=100)#we want h=1 for some comparisons"
   ]
  },
  {
   "cell_type": "code",
   "execution_count": 10,
   "metadata": {},
   "outputs": [],
   "source": [
    "#select redshift range of sample\n",
    "z_min=1.0\n",
    "z_max=1.5\n",
    "z_mean=1.25"
   ]
  },
  {
   "cell_type": "code",
   "execution_count": 11,
   "metadata": {},
   "outputs": [],
   "source": [
    "#set survey area\n",
    "area=4 #sq. degrees\n",
    "degtorad = 180/np.pi\n",
    "field_radius = area**0.5/degtorad*cosmo.comoving_distance(z=z_max).value\n",
    "field_radius/=5\n",
    "area_comoving=area*(np.pi/180)**2*cosmo.comoving_distance(z=z_mean)**2\n",
    "L_W=cosmo.comoving_distance(z=z_max)-cosmo.comoving_distance(z=z_min)\n",
    "vol=area_comoving*L_W\n",
    "vol=vol.value\n",
    "area_comoving=area_comoving.value"
   ]
  },
  {
   "cell_type": "code",
   "execution_count": 12,
   "metadata": {},
   "outputs": [
    {
     "data": {
      "text/plain": [
       "21.201333214536877"
      ]
     },
     "execution_count": 12,
     "metadata": {},
     "output_type": "execute_result"
    }
   ],
   "source": [
    "field_radius"
   ]
  },
  {
   "cell_type": "code",
   "execution_count": 13,
   "metadata": {},
   "outputs": [],
   "source": [
    "#set k scales for integration\n",
    "kmax=300\n",
    "kmin=.8e-2\n",
    "k_smooth=1\n",
    "nk=5000\n",
    "#set r scales for measurement\n",
    "rmin=0.1\n",
    "#rmax=field_radius\n",
    "rmax=40\n",
    "non_linear=1\n",
    "\n",
    "r_bins=np.logspace(np.log10(rmin),np.log10(rmax),11) #np.logspace(0,2,11)"
   ]
  },
  {
   "cell_type": "code",
   "execution_count": 14,
   "metadata": {},
   "outputs": [],
   "source": [
    "cosmo_fid=dict({'h':Planck13.h,'Omb':cosmo.Ob0,'Omd':cosmo.Om0-cosmo.Ob0,'s8':0.817,'Om':cosmo.Om0,\n",
    "                'As':2.12e-09,'mnu':cosmo.m_nu[-1].value,'Omk':cosmo.Ok0,'tau':0.06,'ns':0.965,'w':-1,'wa':0})\n",
    "pk_params={'non_linear':non_linear,'kmax':kmax,'kmin':kmin,'nk':nk}"
   ]
  },
  {
   "cell_type": "code",
   "execution_count": 15,
   "metadata": {},
   "outputs": [],
   "source": [
    "PS=Power_Spectra(cosmo_params=cosmo_fid,pk_params=pk_params)"
   ]
  },
  {
   "cell_type": "code",
   "execution_count": 16,
   "metadata": {},
   "outputs": [
    {
     "data": {
      "text/plain": [
       "0.048252"
      ]
     },
     "execution_count": 16,
     "metadata": {},
     "output_type": "execute_result"
    }
   ],
   "source": [
    "cosmo.Ob0"
   ]
  },
  {
   "cell_type": "code",
   "execution_count": 17,
   "metadata": {},
   "outputs": [],
   "source": [
    "pk,kh =PS.class_pk(z=[z_mean])"
   ]
  },
  {
   "cell_type": "code",
   "execution_count": 18,
   "metadata": {
    "scrolled": true
   },
   "outputs": [
    {
     "name": "stdout",
     "output_type": "stream",
     "text": [
      "j-nu= 0  not enough zeros to cover kmin, increasing by  1000  to 29000\n",
      "nr: 3812\n",
      "j-nu= 2  not enough zeros to cover kmin, increasing by  1000  to 29000\n",
      "j-nu= 2  not enough zeros to cover kmin, increasing by  1000  to 30000\n",
      "j-nu= 2  not enough zeros to cover kmin, increasing by  1000  to 31000\n",
      "j-nu= 2  not enough zeros to cover kmin, increasing by  1000  to 32000\n",
      "j-nu= 2  not enough zeros to cover kmin, increasing by  1000  to 33000\n",
      "j-nu= 2  not enough zeros to cover kmin, increasing by  1000  to 34000\n",
      "j-nu= 2  not enough zeros to cover kmin, increasing by  1000  to 35000\n",
      "j-nu= 2  not enough zeros to cover kmin, increasing by  1000  to 36000\n",
      "j-nu= 2  not enough zeros to cover kmin, increasing by  1000  to 37000\n",
      "j-nu= 2  not enough zeros to cover kmin, increasing by  1000  to 38000\n",
      "j-nu= 2  not enough zeros to cover kmin, increasing by  1000  to 39000\n",
      "j-nu= 2  not enough zeros to cover kmin, increasing by  1000  to 40000\n",
      "j-nu= 2  not enough zeros to cover kmin, increasing by  1000  to 41000\n",
      "j-nu= 2  not enough zeros to cover kmin, increasing by  1000  to 42000\n",
      "j-nu= 2  not enough zeros to cover kmin, increasing by  1000  to 43000\n",
      "j-nu= 2  not enough zeros to cover kmin, increasing by  1000  to 44000\n",
      "j-nu= 2  not enough zeros to cover kmin, increasing by  1000  to 45000\n",
      "j-nu= 2  not enough zeros to cover kmin, increasing by  1000  to 46000\n",
      "j-nu= 2  not enough zeros to cover kmin, increasing by  1000  to 47000\n",
      "j-nu= 2  not enough zeros to cover kmin, increasing by  1000  to 48000\n",
      "j-nu= 2  not enough zeros to cover kmin, increasing by  1000  to 49000\n",
      "j-nu= 2  not enough zeros to cover kmin, increasing by  1000  to 50000\n",
      "j-nu= 2  not enough zeros to cover kmin, increasing by  1000  to 51000\n",
      "j-nu= 2  not enough zeros to cover kmin, increasing by  1000  to 52000\n",
      "j-nu= 2  not enough zeros to cover kmin, increasing by  1000  to 53000\n",
      "j-nu= 2  not enough zeros to cover kmin, increasing by  1000  to 54000\n",
      "j-nu= 2  not enough zeros to cover kmin, increasing by  1000  to 55000\n",
      "j-nu= 2  not enough zeros to cover kmin, increasing by  1000  to 56000\n",
      "j-nu= 2  not enough zeros to cover kmin, increasing by  1000  to 57000\n",
      "j-nu= 2  not enough zeros to cover kmin, increasing by  1000  to 58000\n",
      "j-nu= 2  not enough zeros to cover kmin, increasing by  1000  to 59000\n",
      "j-nu= 2  not enough zeros to cover kmin, increasing by  1000  to 60000\n",
      "j-nu= 2  not enough zeros to cover kmin, increasing by  1000  to 61000\n",
      "j-nu= 2  not enough zeros to cover kmin, increasing by  1000  to 62000\n",
      "nr: 3812\n",
      "CPU times: user 1min 53s, sys: 3.15 s, total: 1min 56s\n",
      "Wall time: 1min 59s\n"
     ]
    }
   ],
   "source": [
    "#Setting up the Hankel Transform\n",
    "#This part is slower. But only needs to be run once. \n",
    "#If you only need wgg, set j_nu=[0]. For wg+ (or \\Delta\\Sigma) use j_nu=[2]\n",
    "%time HT=hankel_transform(rmin=rmin,rmax=rmax,kmax=kmax,j_nu=[0,2],n_zeros=28000,kmin=kmin)\n",
    "#HT=hankel_transform(rmin=1,rmax=rmax,kmax=1,j_nu=[0,2],n_zeros=2800,kmin=1.e-2)#quick test... inaccurate"
   ]
  },
  {
   "cell_type": "code",
   "execution_count": 19,
   "metadata": {},
   "outputs": [],
   "source": [
    "pk_taper=HT.taper(k=kh,pk=pk[0],large_k_lower=5,large_k_upper=kmax,low_k_lower=kmin,\n",
    "                     low_k_upper=kmin*2)\n",
    "#need atleast k=10 and k=1.e-3 to get decent wgg for 1-100 Mpc/h range."
   ]
  },
  {
   "cell_type": "code",
   "execution_count": 20,
   "metadata": {},
   "outputs": [],
   "source": [
    "from scipy.integrate import quad as scipy_int1d"
   ]
  },
  {
   "cell_type": "code",
   "execution_count": 21,
   "metadata": {},
   "outputs": [
    {
     "data": {
      "text/plain": [
       "array([100.])"
      ]
     },
     "execution_count": 21,
     "metadata": {},
     "output_type": "execute_result"
    }
   ],
   "source": [
    "cosmo.H(z=[0]).value"
   ]
  },
  {
   "cell_type": "code",
   "execution_count": 22,
   "metadata": {},
   "outputs": [],
   "source": [
    "def DZ_int(z=[0],cosmo=None,rtol=1.e-4,tol=1.e-5): #linear growth factor.. full integral.. eq 63 in Lahav and suto\n",
    "        Ez_func=cosmo.efunc\n",
    "        def intf(z):\n",
    "            return (1.+z)/(cosmo.H(z=z).value**3)\n",
    "        dz=np.zeros_like(z,dtype='float32')\n",
    "        inf=np.inf\n",
    "        j=0\n",
    "        for i in z:\n",
    "            dz[j]+=cosmo.H(i).value*scipy_int1d(intf,i,inf,epsrel=rtol,epsabs=tol)[0]\n",
    "            j=j+1\n",
    "        dz=dz*2.5*cosmo.Om0*cosmo.H0**2\n",
    "        return dz/dz[0] #check for normalization"
   ]
  },
  {
   "cell_type": "code",
   "execution_count": 23,
   "metadata": {},
   "outputs": [],
   "source": [
    "#set fiducial bias and IA amplitude values.\n",
    "b_g=1.5\n",
    "A_I=1.0\n",
    "\n",
    "C1_rhoC=0.0134\n",
    "Om=cosmo.Om0\n",
    "Dz=DZ_int(z=np.append([0],z_mean),cosmo=cosmo)# Dz is normalized to 1 at lowest z. \n",
    "                                    #Hence appending 0 in front to get Dz normalized to 1 at z=0\n",
    "Dz=Dz[1]/Dz[0]\n",
    "wgg_f=b_g**2\n",
    "wgp_f=b_g*A_I*C1_rhoC*Om/Dz\n",
    "wpp_f=(A_I*C1_rhoC*Om/Dz)**2"
   ]
  },
  {
   "cell_type": "code",
   "execution_count": 24,
   "metadata": {},
   "outputs": [
    {
     "name": "stdout",
     "output_type": "stream",
     "text": [
      "CPU times: user 73.9 ms, sys: 1.67 ms, total: 75.6 ms\n",
      "Wall time: 38.4 ms\n"
     ]
    }
   ],
   "source": [
    "r_gg,wgg=HT.projected_correlation(k_pk=kh,pk=pk[0]*wgg_f,j_nu=0)\n",
    "%time r_gg,wgg_taper=HT.projected_correlation(k_pk=kh,pk=pk_taper*wgg_f,j_nu=0)\n",
    "\n",
    "r_gp,wgp=HT.projected_correlation(k_pk=kh,pk=pk[0]*wgp_f,j_nu=2)\n",
    "\n",
    "# r_pp,wpp4=HT.projected_correlation(k_pk=kh,pk=pk[0]*wpp_f,j_nu=4)\n",
    "# r_pp0,wpp0=HT.projected_correlation(k_pk=kh,pk=pk[0]*wpp_f,j_nu=0)\n",
    "\n",
    "# wpp0_intp=interp1d(r_pp0,wpp0,bounds_error=False,fill_value=np.nan)\n",
    "# wpp=wpp4+wpp0_intp(r_pp)"
   ]
  },
  {
   "cell_type": "code",
   "execution_count": 25,
   "metadata": {},
   "outputs": [
    {
     "name": "stdout",
     "output_type": "stream",
     "text": [
      "Populating the interactive namespace from numpy and matplotlib\n"
     ]
    }
   ],
   "source": [
    "%pylab inline"
   ]
  },
  {
   "cell_type": "code",
   "execution_count": 26,
   "metadata": {},
   "outputs": [
    {
     "data": {
      "text/plain": [
       "<matplotlib.legend.Legend at 0x10ffe08d0>"
      ]
     },
     "execution_count": 26,
     "metadata": {},
     "output_type": "execute_result"
    },
    {
     "data": {
      "image/png": "[encoded data removed]",
      "text/plain": [
       "<matplotlib.figure.Figure at 0x10ff6f908>"
      ]
     },
     "metadata": {},
     "output_type": "display_data"
    }
   ],
   "source": [
    "plot(r_gg,r_gg*wgg,label='No tapering')\n",
    "plot(r_gg,r_gg*wgg_taper,label='tapering')\n",
    "#plot(wgg_test['rp'],wgg_test['rp']*wgg_test['wgg']*wgg_test_fact)\n",
    "xscale('log')\n",
    "#yscale('log')\n",
    "#ylim(1.e-2,1.e3)\n",
    "xlim(1,110)\n",
    "xlabel('$r_p$ [Mpc/h]')\n",
    "ylabel('$w_{gg}$ [Mpc/h]')\n",
    "\n",
    "legend()"
   ]
  },
  {
   "cell_type": "code",
   "execution_count": 27,
   "metadata": {},
   "outputs": [
    {
     "data": {
      "text/plain": [
       "<matplotlib.legend.Legend at 0x10ffa1940>"
      ]
     },
     "execution_count": 27,
     "metadata": {},
     "output_type": "execute_result"
    },
    {
     "data": {
      "image/png": "[encoded data removed]",
      "text/plain": [
       "<matplotlib.figure.Figure at 0x1100a91d0>"
      ]
     },
     "metadata": {},
     "output_type": "display_data"
    }
   ],
   "source": [
    "plot(r_gp,wgp,label='No tapering')\n",
    "xscale('log')\n",
    "yscale('log')\n",
    "xlim(1,110)\n",
    "xlabel('$r_p$ [Mpc/h]')\n",
    "ylabel('$w_{g+}$ [Mpc/h]')\n",
    "ylim(1.e-2,20)\n",
    "legend()"
   ]
  },
  {
   "cell_type": "raw",
   "metadata": {},
   "source": [
    "plot(r_pp,r_pp*wpp,label='No tapering')\n",
    "xscale('log')\n",
    "xlim(1,110)\n",
    "xlabel('$r_p$ [Mpc/h]')\n",
    "ylabel('$w_{++}$ [Mpc/h]')\n",
    "# ylim(0,72)\n",
    "legend()"
   ]
  },
  {
   "cell_type": "code",
   "execution_count": 28,
   "metadata": {},
   "outputs": [
    {
     "data": {
      "text/plain": [
       "Text(0.5,0,'$r_p$ [Mpc/h]')"
      ]
     },
     "execution_count": 28,
     "metadata": {},
     "output_type": "execute_result"
    },
    {
     "data": {
      "image/png": "[encoded data removed]",
      "text/plain": [
       "<matplotlib.figure.Figure at 0x110f58d30>"
      ]
     },
     "metadata": {},
     "output_type": "display_data"
    }
   ],
   "source": [
    "plot(r_gg,wgg-wgg_taper,'r')\n",
    "xscale('log')\n",
    "xlabel('$r_p$ [Mpc/h]')"
   ]
  },
  {
   "cell_type": "markdown",
   "metadata": {
    "collapsed": true
   },
   "source": [
    "# Covariance"
   ]
  },
  {
   "cell_type": "code",
   "execution_count": 29,
   "metadata": {},
   "outputs": [],
   "source": [
    "#set total number or number density of galaxies\n",
    "N_tot=2e5\n",
    "#n_g=3.e-4 #number density.. in units of Mpc ^ -3, same as pk\n",
    "n_g=N_tot/vol\n",
    "g_shot_noise=1./n_g\n",
    "p_g=pk[0]*wgg_f"
   ]
  },
  {
   "cell_type": "code",
   "execution_count": 30,
   "metadata": {},
   "outputs": [],
   "source": [
    "#set shape noise\n",
    "sigma_e=.36\n",
    "sigma_gamma=sigma_e/1.7\n",
    "n_s=n_g #shape galaxy number density \n",
    "shape_noise=sigma_gamma**2/n_s#*cosmo.H_z(z=0.27)/cosmo.c\n",
    "p_gk=pk[0]*wgp_f\n",
    "p_kk=pk[0]*wpp_f"
   ]
  },
  {
   "cell_type": "code",
   "execution_count": 31,
   "metadata": {},
   "outputs": [
    {
     "data": {
      "text/plain": [
       "0.005357441876959438"
      ]
     },
     "execution_count": 31,
     "metadata": {},
     "output_type": "execute_result"
    }
   ],
   "source": [
    "g_shot_noise*shape_noise/area_comoving"
   ]
  },
  {
   "cell_type": "code",
   "execution_count": 32,
   "metadata": {},
   "outputs": [
    {
     "data": {
      "text/plain": [
       "0.00884966641168142"
      ]
     },
     "execution_count": 32,
     "metadata": {},
     "output_type": "execute_result"
    }
   ],
   "source": [
    "area_comoving/1.e6"
   ]
  },
  {
   "cell_type": "code",
   "execution_count": 33,
   "metadata": {},
   "outputs": [
    {
     "name": "stderr",
     "output_type": "stream",
     "text": [
      "/Users/blazek/Code/Public-code/Hankel_transform/power_spectra.py:236: RuntimeWarning: divide by zero encountered in true_divide\n",
      "  pk_int=interp1d(lz,pk[i]/DC_i**2,bounds_error=False,fill_value=0)\n",
      "/Users/blazek/Packages/anaconda3/lib/python3.6/site-packages/astropy/units/quantity.py:641: RuntimeWarning: divide by zero encountered in true_divide\n",
      "  *arrays, **kwargs)\n"
     ]
    }
   ],
   "source": [
    "#lensing contribution\n",
    "l=np.unique(np.int32(kh*cosmo.comoving_transverse_distance(z_mean).value))\n",
    "l,cl=PS.kappa_cl(zs1=[z_mean],zs2=[z_mean],p_zs1=[1],p_zs2=[1],pk_func=PS.class_pk,zl_max=z_mean,l=l)\n",
    "p_kappa=cl*cosmo.comoving_transverse_distance(z_mean)**3 / 2 #this is an approximation\n",
    "k_kappa=l/cosmo.comoving_transverse_distance(z_mean)\n",
    "p_kappa_int=interp1d(k_kappa,p_kappa,bounds_error=False, fill_value=0)\n",
    "p_kappa=p_kappa_int(kh)"
   ]
  },
  {
   "cell_type": "code",
   "execution_count": 34,
   "metadata": {},
   "outputs": [
    {
     "data": {
      "text/plain": [
       "[]"
      ]
     },
     "execution_count": 34,
     "metadata": {},
     "output_type": "execute_result"
    },
    {
     "data": {
      "image/png": "[encoded data removed]",
      "text/plain": [
       "<matplotlib.figure.Figure at 0x1111306d8>"
      ]
     },
     "metadata": {},
     "output_type": "display_data"
    }
   ],
   "source": [
    "plot(kh,p_kappa,'--')\n",
    "plot(kh,p_kk)\n",
    "loglog()"
   ]
  },
  {
   "cell_type": "code",
   "execution_count": null,
   "metadata": {},
   "outputs": [],
   "source": []
  },
  {
   "cell_type": "code",
   "execution_count": 35,
   "metadata": {},
   "outputs": [],
   "source": [
    "p_g_cov=p_g+g_shot_noise\n",
    "p_kk_cov=p_kk+p_kappa+shape_noise\n",
    "p_gk_cov=p_gk"
   ]
  },
  {
   "cell_type": "code",
   "execution_count": 36,
   "metadata": {},
   "outputs": [],
   "source": [
    "r,cov_ggkk=HT.projected_covariance(k_pk=kh,pk1=p_g_cov,pk2=p_kk_cov,j_nu=2)\n",
    "r_re,cov_ggkk_re=HT.bin_cov(r=r,cov=cov_ggkk,r_bins=r_bins)\n",
    "corr=HT.corr_matrix(cov=cov_ggkk_re)"
   ]
  },
  {
   "cell_type": "code",
   "execution_count": 37,
   "metadata": {},
   "outputs": [],
   "source": [
    "r,cov_gkgk=HT.projected_covariance(k_pk=kh,pk1=p_gk_cov,pk2=p_gk_cov,j_nu=2)\n",
    "r_re,cov_gkgk_re=HT.bin_cov(r=r,cov=cov_gkgk,r_bins=r_bins)\n",
    "corr=HT.corr_matrix(cov=cov_gkgk_re)"
   ]
  },
  {
   "cell_type": "code",
   "execution_count": 38,
   "metadata": {},
   "outputs": [],
   "source": [
    "cov_final=(cov_ggkk_re+cov_gkgk_re)/area_comoving\n",
    "corr=HT.corr_matrix(cov=cov_final)\n",
    "errors=HT.diagonal_err(cov=cov_final)"
   ]
  },
  {
   "cell_type": "code",
   "execution_count": 39,
   "metadata": {},
   "outputs": [],
   "source": [
    "lowz_dat=np.genfromtxt('./test_Dat/lowz_full.dat',names=True)\n",
    "lowz_cov=np.genfromtxt('./test_Dat//lowz_wgp_cov.dat')\n",
    "lowz_corr=HT.corr_matrix(cov=lowz_cov)"
   ]
  },
  {
   "cell_type": "code",
   "execution_count": 40,
   "metadata": {},
   "outputs": [
    {
     "data": {
      "image/png": "[encoded data removed]",
      "text/plain": [
       "<matplotlib.figure.Figure at 0x11101a940>"
      ]
     },
     "metadata": {},
     "output_type": "display_data"
    }
   ],
   "source": [
    "pcolor(r_re,r_re,corr,vmin=-1,vmax=1,cmap='seismic')\n",
    "colorbar()\n",
    "xscale('log')\n",
    "yscale('log')\n",
    "xlim(HT.rmin,HT.rmax)\n",
    "ylim(HT.rmin,HT.rmax)\n",
    "# colorbar()\n",
    "show()\n",
    "#pcolor(lowz_dat['rp'],lowz_dat['rp'],corr,vmin=-1,vmax=1,cmap='seismic')\n",
    "#colorbar()\n",
    "#xscale('log')\n",
    "#yscale('log')\n",
    "#xlim(HT.rmin,HT.rmax)\n",
    "#ylim(HT.rmin,HT.rmax)\n",
    "# colorbar()"
   ]
  },
  {
   "cell_type": "code",
   "execution_count": 41,
   "metadata": {},
   "outputs": [
    {
     "data": {
      "text/plain": [
       "(0.1, 40)"
      ]
     },
     "execution_count": 41,
     "metadata": {},
     "output_type": "execute_result"
    },
    {
     "data": {
      "image/png": "[encoded data removed]",
      "text/plain": [
       "<matplotlib.figure.Figure at 0x11153d5f8>"
      ]
     },
     "metadata": {},
     "output_type": "display_data"
    }
   ],
   "source": [
    "plot(r_gp,wgp)\n",
    "plot(r_re,errors,'--')\n",
    "xscale('log')\n",
    "yscale('log')\n",
    "xlim(0.1,40)"
   ]
  },
  {
   "cell_type": "code",
   "execution_count": 42,
   "metadata": {},
   "outputs": [
    {
     "data": {
      "text/plain": [
       "0.030754692933547472"
      ]
     },
     "execution_count": 42,
     "metadata": {},
     "output_type": "execute_result"
    }
   ],
   "source": [
    "n_g"
   ]
  },
  {
   "cell_type": "code",
   "execution_count": 43,
   "metadata": {},
   "outputs": [
    {
     "data": {
      "text/plain": [
       "0.006503072569514695"
      ]
     },
     "execution_count": 43,
     "metadata": {},
     "output_type": "execute_result"
    }
   ],
   "source": [
    "vol/1.e9"
   ]
  },
  {
   "cell_type": "raw",
   "metadata": {},
   "source": [
    "plot(r_gp,wgp)\n",
    "plot(lowz_dat['rp'],lowz_dat['wgp'])\n",
    "plot(lowz_dat['rp'],np.sqrt(np.diag(lowz_cov)))\n",
    "plot(r_re,errors)\n",
    "xscale('log')\n",
    "yscale('log')\n",
    "xlim(1,110)\n",
    "ylim(9.e-3,2)"
   ]
  },
  {
   "cell_type": "code",
   "execution_count": 44,
   "metadata": {},
   "outputs": [],
   "source": [
    "rpb=0.5*(r_bins[1:]+r_bins[:-1])\n",
    "wgp_intp=interp1d(r_gp,wgp)\n",
    "wgp_b=wgp_intp(rpb)"
   ]
  },
  {
   "cell_type": "code",
   "execution_count": 45,
   "metadata": {},
   "outputs": [
    {
     "data": {
      "text/plain": [
       "(6.623752223489046, 2.57366513429565)"
      ]
     },
     "execution_count": 45,
     "metadata": {},
     "output_type": "execute_result"
    }
   ],
   "source": [
    "S2N2 = wgp_b@np.linalg.inv(cov_final)@wgp_b\n",
    "S2N2,np.sqrt(S2N2) #total signal to noise squared for IA, total signal to noise"
   ]
  }
 ],
 "metadata": {
  "kernelspec": {
   "display_name": "Python [default]",
   "language": "python",
   "name": "python3"
  },
  "language_info": {
   "codemirror_mode": {
    "name": "ipython",
    "version": 3
   },
   "file_extension": ".py",
   "mimetype": "text/x-python",
   "name": "python",
   "nbconvert_exporter": "python",
   "pygments_lexer": "ipython3",
   "version": "3.6.4"
  }
 },
 "nbformat": 4,
 "nbformat_minor": 1
}
